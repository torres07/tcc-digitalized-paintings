{
 "cells": [
  {
   "cell_type": "code",
   "execution_count": 1,
   "metadata": {},
   "outputs": [
    {
     "name": "stderr",
     "output_type": "stream",
     "text": [
      "/home/pedrotorres/miniconda3/lib/python3.6/site-packages/h5py/__init__.py:36: FutureWarning: Conversion of the second argument of issubdtype from `float` to `np.floating` is deprecated. In future, it will be treated as `np.float64 == np.dtype(float).type`.\n",
      "  from ._conv import register_converters as _register_converters\n",
      "Using TensorFlow backend.\n"
     ]
    }
   ],
   "source": [
    "%matplotlib inline\n",
    "import matplotlib.pyplot as plt\n",
    "import numpy\n",
    "import pandas\n",
    "from keras.models import Sequential\n",
    "from keras.layers import Dense\n",
    "from keras.wrappers.scikit_learn import KerasClassifier\n",
    "from keras.utils import np_utils\n",
    "from sklearn.model_selection import cross_val_score\n",
    "from sklearn.model_selection import KFold\n",
    "from sklearn.preprocessing import LabelEncoder\n",
    "from sklearn.pipeline import Pipeline\n",
    "from keras.optimizers import Adam"
   ]
  },
  {
   "cell_type": "code",
   "execution_count": 2,
   "metadata": {},
   "outputs": [],
   "source": [
    "# fix random seed for reproducibility\n",
    "seed = 7\n",
    "numpy.random.seed(seed)"
   ]
  },
  {
   "cell_type": "code",
   "execution_count": 47,
   "metadata": {
    "scrolled": true
   },
   "outputs": [
    {
     "data": {
      "text/html": [
       "<div>\n",
       "<style scoped>\n",
       "    .dataframe tbody tr th:only-of-type {\n",
       "        vertical-align: middle;\n",
       "    }\n",
       "\n",
       "    .dataframe tbody tr th {\n",
       "        vertical-align: top;\n",
       "    }\n",
       "\n",
       "    .dataframe thead th {\n",
       "        text-align: right;\n",
       "    }\n",
       "</style>\n",
       "<table border=\"1\" class=\"dataframe\">\n",
       "  <thead>\n",
       "    <tr style=\"text-align: right;\">\n",
       "      <th></th>\n",
       "      <th>1</th>\n",
       "      <th>2</th>\n",
       "      <th>3</th>\n",
       "      <th>4</th>\n",
       "      <th>5</th>\n",
       "      <th>6</th>\n",
       "      <th>7</th>\n",
       "      <th>8</th>\n",
       "      <th>9</th>\n",
       "      <th>10</th>\n",
       "      <th>...</th>\n",
       "      <th>504</th>\n",
       "      <th>505</th>\n",
       "      <th>506</th>\n",
       "      <th>507</th>\n",
       "      <th>508</th>\n",
       "      <th>509</th>\n",
       "      <th>510</th>\n",
       "      <th>511</th>\n",
       "      <th>512</th>\n",
       "      <th>movimento</th>\n",
       "    </tr>\n",
       "  </thead>\n",
       "  <tbody>\n",
       "    <tr>\n",
       "      <th>0</th>\n",
       "      <td>0.101180</td>\n",
       "      <td>0.054748</td>\n",
       "      <td>0.069270</td>\n",
       "      <td>0.095228</td>\n",
       "      <td>0.064866</td>\n",
       "      <td>0.083267</td>\n",
       "      <td>0.067420</td>\n",
       "      <td>0.059050</td>\n",
       "      <td>0.058033</td>\n",
       "      <td>0.055041</td>\n",
       "      <td>...</td>\n",
       "      <td>0.047724</td>\n",
       "      <td>0.055458</td>\n",
       "      <td>0.056412</td>\n",
       "      <td>0.062151</td>\n",
       "      <td>0.071972</td>\n",
       "      <td>0.015242</td>\n",
       "      <td>0.031297</td>\n",
       "      <td>0.061239</td>\n",
       "      <td>0.058359</td>\n",
       "      <td>cubismo</td>\n",
       "    </tr>\n",
       "    <tr>\n",
       "      <th>1</th>\n",
       "      <td>0.021268</td>\n",
       "      <td>0.047648</td>\n",
       "      <td>0.040860</td>\n",
       "      <td>0.045891</td>\n",
       "      <td>0.024987</td>\n",
       "      <td>0.034874</td>\n",
       "      <td>0.042191</td>\n",
       "      <td>0.043204</td>\n",
       "      <td>0.027459</td>\n",
       "      <td>0.035662</td>\n",
       "      <td>...</td>\n",
       "      <td>0.037346</td>\n",
       "      <td>0.027889</td>\n",
       "      <td>0.027011</td>\n",
       "      <td>0.037306</td>\n",
       "      <td>0.067150</td>\n",
       "      <td>0.027828</td>\n",
       "      <td>0.021334</td>\n",
       "      <td>0.072296</td>\n",
       "      <td>0.084004</td>\n",
       "      <td>cubismo</td>\n",
       "    </tr>\n",
       "    <tr>\n",
       "      <th>2</th>\n",
       "      <td>0.012151</td>\n",
       "      <td>0.021379</td>\n",
       "      <td>0.045505</td>\n",
       "      <td>0.034248</td>\n",
       "      <td>0.021808</td>\n",
       "      <td>0.043200</td>\n",
       "      <td>0.043051</td>\n",
       "      <td>0.029428</td>\n",
       "      <td>0.015232</td>\n",
       "      <td>0.027713</td>\n",
       "      <td>...</td>\n",
       "      <td>0.054008</td>\n",
       "      <td>0.030831</td>\n",
       "      <td>0.063981</td>\n",
       "      <td>0.064851</td>\n",
       "      <td>0.043984</td>\n",
       "      <td>0.016595</td>\n",
       "      <td>0.049209</td>\n",
       "      <td>0.043237</td>\n",
       "      <td>0.030625</td>\n",
       "      <td>cubismo</td>\n",
       "    </tr>\n",
       "    <tr>\n",
       "      <th>3</th>\n",
       "      <td>0.072982</td>\n",
       "      <td>0.049940</td>\n",
       "      <td>0.064760</td>\n",
       "      <td>0.052289</td>\n",
       "      <td>0.055363</td>\n",
       "      <td>0.090895</td>\n",
       "      <td>0.091935</td>\n",
       "      <td>0.069430</td>\n",
       "      <td>0.045179</td>\n",
       "      <td>0.079079</td>\n",
       "      <td>...</td>\n",
       "      <td>0.079950</td>\n",
       "      <td>0.060040</td>\n",
       "      <td>0.065639</td>\n",
       "      <td>0.089539</td>\n",
       "      <td>0.054537</td>\n",
       "      <td>0.025248</td>\n",
       "      <td>0.024525</td>\n",
       "      <td>0.044841</td>\n",
       "      <td>0.031313</td>\n",
       "      <td>cubismo</td>\n",
       "    </tr>\n",
       "    <tr>\n",
       "      <th>4</th>\n",
       "      <td>0.035002</td>\n",
       "      <td>0.027645</td>\n",
       "      <td>0.026887</td>\n",
       "      <td>0.024981</td>\n",
       "      <td>0.053913</td>\n",
       "      <td>0.036880</td>\n",
       "      <td>0.024903</td>\n",
       "      <td>0.025889</td>\n",
       "      <td>0.052311</td>\n",
       "      <td>0.043975</td>\n",
       "      <td>...</td>\n",
       "      <td>0.009137</td>\n",
       "      <td>0.027877</td>\n",
       "      <td>0.020985</td>\n",
       "      <td>0.027115</td>\n",
       "      <td>0.011540</td>\n",
       "      <td>0.034369</td>\n",
       "      <td>0.022454</td>\n",
       "      <td>0.014588</td>\n",
       "      <td>0.010221</td>\n",
       "      <td>cubismo</td>\n",
       "    </tr>\n",
       "  </tbody>\n",
       "</table>\n",
       "<p>5 rows × 513 columns</p>\n",
       "</div>"
      ],
      "text/plain": [
       "          1         2         3         4         5         6         7  \\\n",
       "0  0.101180  0.054748  0.069270  0.095228  0.064866  0.083267  0.067420   \n",
       "1  0.021268  0.047648  0.040860  0.045891  0.024987  0.034874  0.042191   \n",
       "2  0.012151  0.021379  0.045505  0.034248  0.021808  0.043200  0.043051   \n",
       "3  0.072982  0.049940  0.064760  0.052289  0.055363  0.090895  0.091935   \n",
       "4  0.035002  0.027645  0.026887  0.024981  0.053913  0.036880  0.024903   \n",
       "\n",
       "          8         9        10    ...           504       505       506  \\\n",
       "0  0.059050  0.058033  0.055041    ...      0.047724  0.055458  0.056412   \n",
       "1  0.043204  0.027459  0.035662    ...      0.037346  0.027889  0.027011   \n",
       "2  0.029428  0.015232  0.027713    ...      0.054008  0.030831  0.063981   \n",
       "3  0.069430  0.045179  0.079079    ...      0.079950  0.060040  0.065639   \n",
       "4  0.025889  0.052311  0.043975    ...      0.009137  0.027877  0.020985   \n",
       "\n",
       "        507       508       509       510       511       512  movimento  \n",
       "0  0.062151  0.071972  0.015242  0.031297  0.061239  0.058359    cubismo  \n",
       "1  0.037306  0.067150  0.027828  0.021334  0.072296  0.084004    cubismo  \n",
       "2  0.064851  0.043984  0.016595  0.049209  0.043237  0.030625    cubismo  \n",
       "3  0.089539  0.054537  0.025248  0.024525  0.044841  0.031313    cubismo  \n",
       "4  0.027115  0.011540  0.034369  0.022454  0.014588  0.010221    cubismo  \n",
       "\n",
       "[5 rows x 513 columns]"
      ]
     },
     "execution_count": 47,
     "metadata": {},
     "output_type": "execute_result"
    }
   ],
   "source": [
    "# load dataset\n",
    "dataframe = pandas.read_csv('GIST/gistdescriptor/csv/gist_features.csv')\n",
    "dataframe = dataframe[dataframe.movimento != 'express']\n",
    "# dataframe = dataframe[dataframe.movimento != 'surreal']\n",
    "# dataset = dataframe.values\n",
    "# X = dataset[:,0:4].astype(float)\n",
    "# Y = dataset[:,4]\n",
    "dataframe.head()"
   ]
  },
  {
   "cell_type": "code",
   "execution_count": 48,
   "metadata": {},
   "outputs": [
    {
     "data": {
      "text/plain": [
       "<matplotlib.axes._subplots.AxesSubplot at 0x7ffa09ded898>"
      ]
     },
     "execution_count": 48,
     "metadata": {},
     "output_type": "execute_result"
    },
    {
     "data": {
      "image/png": "[encoded data removed]",
      "text/plain": [
       "<Figure size 432x288 with 1 Axes>"
      ]
     },
     "metadata": {},
     "output_type": "display_data"
    }
   ],
   "source": [
    "dataframe['movimento'].value_counts().plot(kind='bar', rot=60, fontsize=12)"
   ]
  },
  {
   "cell_type": "code",
   "execution_count": 49,
   "metadata": {},
   "outputs": [],
   "source": [
    "# dataframe = dataframe[:2048]\n",
    "X = dataframe.drop(['movimento'], axis=1)\n",
    "y = dataframe['movimento']"
   ]
  },
  {
   "cell_type": "code",
   "execution_count": 50,
   "metadata": {
    "scrolled": true
   },
   "outputs": [
    {
     "data": {
      "text/html": [
       "<div>\n",
       "<style scoped>\n",
       "    .dataframe tbody tr th:only-of-type {\n",
       "        vertical-align: middle;\n",
       "    }\n",
       "\n",
       "    .dataframe tbody tr th {\n",
       "        vertical-align: top;\n",
       "    }\n",
       "\n",
       "    .dataframe thead th {\n",
       "        text-align: right;\n",
       "    }\n",
       "</style>\n",
       "<table border=\"1\" class=\"dataframe\">\n",
       "  <thead>\n",
       "    <tr style=\"text-align: right;\">\n",
       "      <th></th>\n",
       "      <th>1</th>\n",
       "      <th>2</th>\n",
       "      <th>3</th>\n",
       "      <th>4</th>\n",
       "      <th>5</th>\n",
       "      <th>6</th>\n",
       "      <th>7</th>\n",
       "      <th>8</th>\n",
       "      <th>9</th>\n",
       "      <th>10</th>\n",
       "      <th>...</th>\n",
       "      <th>503</th>\n",
       "      <th>504</th>\n",
       "      <th>505</th>\n",
       "      <th>506</th>\n",
       "      <th>507</th>\n",
       "      <th>508</th>\n",
       "      <th>509</th>\n",
       "      <th>510</th>\n",
       "      <th>511</th>\n",
       "      <th>512</th>\n",
       "    </tr>\n",
       "  </thead>\n",
       "  <tbody>\n",
       "    <tr>\n",
       "      <th>0</th>\n",
       "      <td>0.101180</td>\n",
       "      <td>0.054748</td>\n",
       "      <td>0.069270</td>\n",
       "      <td>0.095228</td>\n",
       "      <td>0.064866</td>\n",
       "      <td>0.083267</td>\n",
       "      <td>0.067420</td>\n",
       "      <td>0.059050</td>\n",
       "      <td>0.058033</td>\n",
       "      <td>0.055041</td>\n",
       "      <td>...</td>\n",
       "      <td>0.047153</td>\n",
       "      <td>0.047724</td>\n",
       "      <td>0.055458</td>\n",
       "      <td>0.056412</td>\n",
       "      <td>0.062151</td>\n",
       "      <td>0.071972</td>\n",
       "      <td>0.015242</td>\n",
       "      <td>0.031297</td>\n",
       "      <td>0.061239</td>\n",
       "      <td>0.058359</td>\n",
       "    </tr>\n",
       "    <tr>\n",
       "      <th>1</th>\n",
       "      <td>0.021268</td>\n",
       "      <td>0.047648</td>\n",
       "      <td>0.040860</td>\n",
       "      <td>0.045891</td>\n",
       "      <td>0.024987</td>\n",
       "      <td>0.034874</td>\n",
       "      <td>0.042191</td>\n",
       "      <td>0.043204</td>\n",
       "      <td>0.027459</td>\n",
       "      <td>0.035662</td>\n",
       "      <td>...</td>\n",
       "      <td>0.048983</td>\n",
       "      <td>0.037346</td>\n",
       "      <td>0.027889</td>\n",
       "      <td>0.027011</td>\n",
       "      <td>0.037306</td>\n",
       "      <td>0.067150</td>\n",
       "      <td>0.027828</td>\n",
       "      <td>0.021334</td>\n",
       "      <td>0.072296</td>\n",
       "      <td>0.084004</td>\n",
       "    </tr>\n",
       "    <tr>\n",
       "      <th>2</th>\n",
       "      <td>0.012151</td>\n",
       "      <td>0.021379</td>\n",
       "      <td>0.045505</td>\n",
       "      <td>0.034248</td>\n",
       "      <td>0.021808</td>\n",
       "      <td>0.043200</td>\n",
       "      <td>0.043051</td>\n",
       "      <td>0.029428</td>\n",
       "      <td>0.015232</td>\n",
       "      <td>0.027713</td>\n",
       "      <td>...</td>\n",
       "      <td>0.086619</td>\n",
       "      <td>0.054008</td>\n",
       "      <td>0.030831</td>\n",
       "      <td>0.063981</td>\n",
       "      <td>0.064851</td>\n",
       "      <td>0.043984</td>\n",
       "      <td>0.016595</td>\n",
       "      <td>0.049209</td>\n",
       "      <td>0.043237</td>\n",
       "      <td>0.030625</td>\n",
       "    </tr>\n",
       "    <tr>\n",
       "      <th>3</th>\n",
       "      <td>0.072982</td>\n",
       "      <td>0.049940</td>\n",
       "      <td>0.064760</td>\n",
       "      <td>0.052289</td>\n",
       "      <td>0.055363</td>\n",
       "      <td>0.090895</td>\n",
       "      <td>0.091935</td>\n",
       "      <td>0.069430</td>\n",
       "      <td>0.045179</td>\n",
       "      <td>0.079079</td>\n",
       "      <td>...</td>\n",
       "      <td>0.088094</td>\n",
       "      <td>0.079950</td>\n",
       "      <td>0.060040</td>\n",
       "      <td>0.065639</td>\n",
       "      <td>0.089539</td>\n",
       "      <td>0.054537</td>\n",
       "      <td>0.025248</td>\n",
       "      <td>0.024525</td>\n",
       "      <td>0.044841</td>\n",
       "      <td>0.031313</td>\n",
       "    </tr>\n",
       "    <tr>\n",
       "      <th>4</th>\n",
       "      <td>0.035002</td>\n",
       "      <td>0.027645</td>\n",
       "      <td>0.026887</td>\n",
       "      <td>0.024981</td>\n",
       "      <td>0.053913</td>\n",
       "      <td>0.036880</td>\n",
       "      <td>0.024903</td>\n",
       "      <td>0.025889</td>\n",
       "      <td>0.052311</td>\n",
       "      <td>0.043975</td>\n",
       "      <td>...</td>\n",
       "      <td>0.035694</td>\n",
       "      <td>0.009137</td>\n",
       "      <td>0.027877</td>\n",
       "      <td>0.020985</td>\n",
       "      <td>0.027115</td>\n",
       "      <td>0.011540</td>\n",
       "      <td>0.034369</td>\n",
       "      <td>0.022454</td>\n",
       "      <td>0.014588</td>\n",
       "      <td>0.010221</td>\n",
       "    </tr>\n",
       "  </tbody>\n",
       "</table>\n",
       "<p>5 rows × 512 columns</p>\n",
       "</div>"
      ],
      "text/plain": [
       "          1         2         3         4         5         6         7  \\\n",
       "0  0.101180  0.054748  0.069270  0.095228  0.064866  0.083267  0.067420   \n",
       "1  0.021268  0.047648  0.040860  0.045891  0.024987  0.034874  0.042191   \n",
       "2  0.012151  0.021379  0.045505  0.034248  0.021808  0.043200  0.043051   \n",
       "3  0.072982  0.049940  0.064760  0.052289  0.055363  0.090895  0.091935   \n",
       "4  0.035002  0.027645  0.026887  0.024981  0.053913  0.036880  0.024903   \n",
       "\n",
       "          8         9        10    ...          503       504       505  \\\n",
       "0  0.059050  0.058033  0.055041    ...     0.047153  0.047724  0.055458   \n",
       "1  0.043204  0.027459  0.035662    ...     0.048983  0.037346  0.027889   \n",
       "2  0.029428  0.015232  0.027713    ...     0.086619  0.054008  0.030831   \n",
       "3  0.069430  0.045179  0.079079    ...     0.088094  0.079950  0.060040   \n",
       "4  0.025889  0.052311  0.043975    ...     0.035694  0.009137  0.027877   \n",
       "\n",
       "        506       507       508       509       510       511       512  \n",
       "0  0.056412  0.062151  0.071972  0.015242  0.031297  0.061239  0.058359  \n",
       "1  0.027011  0.037306  0.067150  0.027828  0.021334  0.072296  0.084004  \n",
       "2  0.063981  0.064851  0.043984  0.016595  0.049209  0.043237  0.030625  \n",
       "3  0.065639  0.089539  0.054537  0.025248  0.024525  0.044841  0.031313  \n",
       "4  0.020985  0.027115  0.011540  0.034369  0.022454  0.014588  0.010221  \n",
       "\n",
       "[5 rows x 512 columns]"
      ]
     },
     "execution_count": 50,
     "metadata": {},
     "output_type": "execute_result"
    }
   ],
   "source": [
    "X.head()"
   ]
  },
  {
   "cell_type": "code",
   "execution_count": 51,
   "metadata": {},
   "outputs": [
    {
     "data": {
      "text/plain": [
       "0    cubismo\n",
       "1    cubismo\n",
       "2    cubismo\n",
       "3    cubismo\n",
       "4    cubismo\n",
       "Name: movimento, dtype: object"
      ]
     },
     "execution_count": 51,
     "metadata": {},
     "output_type": "execute_result"
    }
   ],
   "source": [
    "y.head()"
   ]
  },
  {
   "cell_type": "code",
   "execution_count": 52,
   "metadata": {},
   "outputs": [],
   "source": [
    "# encode class values as integers\n",
    "encoder = LabelEncoder()\n",
    "encoder.fit(y)\n",
    "encoded_y = encoder.transform(y)\n",
    "# convert integers to dummy variables (i.e. one hot encoded)\n",
    "dummy_y = np_utils.to_categorical(encoded_y)"
   ]
  },
  {
   "cell_type": "code",
   "execution_count": 53,
   "metadata": {},
   "outputs": [],
   "source": [
    "# define baseline model\n",
    "def baseline_model():\n",
    "    # create model\n",
    "    model = Sequential()\n",
    "    model.add(Dense(1024, input_dim=512, activation='relu'))\n",
    "    model.add(Dense(1024, activation='sigmoid'))\n",
    "    model.add(Dense(3, activation='softmax'))\n",
    "    # Compile model\n",
    "    optimizer = Adam(lr=0.001)\n",
    "    model.compile(loss='categorical_crossentropy', optimizer=optimizer, metrics=['accuracy'])\n",
    "    #model.compile(loss='categorical_crossentropy', optimizer='tanh', metrics=['accuracy'])\n",
    "    return model"
   ]
  },
  {
   "cell_type": "code",
   "execution_count": 54,
   "metadata": {},
   "outputs": [],
   "source": [
    "estimator = KerasClassifier(build_fn=baseline_model, epochs=150, batch_size=128, verbose=0)"
   ]
  },
  {
   "cell_type": "code",
   "execution_count": 55,
   "metadata": {},
   "outputs": [],
   "source": [
    "kfold = KFold(n_splits=10, shuffle=True, random_state=seed)"
   ]
  },
  {
   "cell_type": "markdown",
   "metadata": {},
   "source": [
    "# Resultado GIST\n",
    "* Cubismo - Expressionismo - Romanticismo\n",
    "    * Baseline: 70.37% (5.49%)\n",
    "* Cubismo - Realismo - Romanticismo    \n",
    "    * Baseline: 69.1602% (4.6196%)    "
   ]
  },
  {
   "cell_type": "markdown",
   "metadata": {},
   "source": [
    "# Resultado LBP\n",
    "Baseline: 62.48% (5.01%)"
   ]
  },
  {
   "cell_type": "markdown",
   "metadata": {},
   "source": [
    "# Resultado COLOR\n",
    "\n",
    "* Cubismo - Expressionismo - Romanticismo\n",
    "    * Baseline: 68.40% (3.89%)"
   ]
  },
  {
   "cell_type": "code",
   "execution_count": 56,
   "metadata": {},
   "outputs": [
    {
     "name": "stdout",
     "output_type": "stream",
     "text": [
      "Baseline: 69.1602% (4.6196%)\n"
     ]
    }
   ],
   "source": [
    "results = cross_val_score(estimator, X, dummy_y, cv=kfold)\n",
    "print(\"Baseline: %.4f%% (%.4f%%)\" % (results.mean()*100, results.std()*100))"
   ]
  },
  {
   "cell_type": "code",
   "execution_count": null,
   "metadata": {},
   "outputs": [],
   "source": []
  }
 ],
 "metadata": {
  "kernelspec": {
   "display_name": "Python 3",
   "language": "python",
   "name": "python3"
  },
  "language_info": {
   "codemirror_mode": {
    "name": "ipython",
    "version": 3
   },
   "file_extension": ".py",
   "mimetype": "text/x-python",
   "name": "python",
   "nbconvert_exporter": "python",
   "pygments_lexer": "ipython3",
   "version": "3.6.4"
  }
 },
 "nbformat": 4,
 "nbformat_minor": 2
}
