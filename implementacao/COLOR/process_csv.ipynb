{
 "cells": [
  {
   "cell_type": "code",
   "execution_count": 13,
   "metadata": {},
   "outputs": [],
   "source": [
    "%matplotlib inline\n",
    "import matplotlib.pyplot as plt\n",
    "import numpy as np\n",
    "import pandas as pd"
   ]
  },
  {
   "cell_type": "code",
   "execution_count": 14,
   "metadata": {},
   "outputs": [],
   "source": [
    "header = []\n",
    "for i in range(672):\n",
    "    header.append(i + 1);\n",
    "header.append('movimento')\n",
    "data = pd.read_csv('csv/color_features_32.csv', names=header)"
   ]
  },
  {
   "cell_type": "code",
   "execution_count": 15,
   "metadata": {},
   "outputs": [
    {
     "data": {
      "text/html": [
       "<div>\n",
       "<style scoped>\n",
       "    .dataframe tbody tr th:only-of-type {\n",
       "        vertical-align: middle;\n",
       "    }\n",
       "\n",
       "    .dataframe tbody tr th {\n",
       "        vertical-align: top;\n",
       "    }\n",
       "\n",
       "    .dataframe thead th {\n",
       "        text-align: right;\n",
       "    }\n",
       "</style>\n",
       "<table border=\"1\" class=\"dataframe\">\n",
       "  <thead>\n",
       "    <tr style=\"text-align: right;\">\n",
       "      <th></th>\n",
       "      <th>1</th>\n",
       "      <th>2</th>\n",
       "      <th>3</th>\n",
       "      <th>4</th>\n",
       "      <th>5</th>\n",
       "      <th>6</th>\n",
       "      <th>7</th>\n",
       "      <th>8</th>\n",
       "      <th>9</th>\n",
       "      <th>10</th>\n",
       "      <th>...</th>\n",
       "      <th>664</th>\n",
       "      <th>665</th>\n",
       "      <th>666</th>\n",
       "      <th>667</th>\n",
       "      <th>668</th>\n",
       "      <th>669</th>\n",
       "      <th>670</th>\n",
       "      <th>671</th>\n",
       "      <th>672</th>\n",
       "      <th>movimento</th>\n",
       "    </tr>\n",
       "  </thead>\n",
       "  <tbody>\n",
       "    <tr>\n",
       "      <th>0</th>\n",
       "      <td>0.000000</td>\n",
       "      <td>0.0</td>\n",
       "      <td>0.0</td>\n",
       "      <td>0.000000</td>\n",
       "      <td>0.000000</td>\n",
       "      <td>0.019346</td>\n",
       "      <td>0.000000</td>\n",
       "      <td>0.0</td>\n",
       "      <td>0.000130</td>\n",
       "      <td>0.000000</td>\n",
       "      <td>...</td>\n",
       "      <td>0.000000</td>\n",
       "      <td>0.005642</td>\n",
       "      <td>0.065616</td>\n",
       "      <td>0.045650</td>\n",
       "      <td>0.074718</td>\n",
       "      <td>0.055232</td>\n",
       "      <td>0.074930</td>\n",
       "      <td>0.074140</td>\n",
       "      <td>0.073858</td>\n",
       "      <td>NaN</td>\n",
       "    </tr>\n",
       "    <tr>\n",
       "      <th>1</th>\n",
       "      <td>0.000000</td>\n",
       "      <td>0.0</td>\n",
       "      <td>0.0</td>\n",
       "      <td>0.001084</td>\n",
       "      <td>0.000000</td>\n",
       "      <td>0.019786</td>\n",
       "      <td>0.000000</td>\n",
       "      <td>0.0</td>\n",
       "      <td>0.003075</td>\n",
       "      <td>0.000000</td>\n",
       "      <td>...</td>\n",
       "      <td>0.000000</td>\n",
       "      <td>0.098548</td>\n",
       "      <td>0.079283</td>\n",
       "      <td>0.000000</td>\n",
       "      <td>0.000000</td>\n",
       "      <td>0.099168</td>\n",
       "      <td>0.000000</td>\n",
       "      <td>0.091917</td>\n",
       "      <td>0.000000</td>\n",
       "      <td>NaN</td>\n",
       "    </tr>\n",
       "    <tr>\n",
       "      <th>2</th>\n",
       "      <td>0.000000</td>\n",
       "      <td>0.0</td>\n",
       "      <td>0.0</td>\n",
       "      <td>0.004751</td>\n",
       "      <td>0.000000</td>\n",
       "      <td>0.017630</td>\n",
       "      <td>0.000000</td>\n",
       "      <td>0.0</td>\n",
       "      <td>0.000544</td>\n",
       "      <td>0.000000</td>\n",
       "      <td>...</td>\n",
       "      <td>0.000000</td>\n",
       "      <td>0.000000</td>\n",
       "      <td>0.067926</td>\n",
       "      <td>0.063938</td>\n",
       "      <td>0.077349</td>\n",
       "      <td>0.007715</td>\n",
       "      <td>0.077567</td>\n",
       "      <td>0.076771</td>\n",
       "      <td>0.076458</td>\n",
       "      <td>NaN</td>\n",
       "    </tr>\n",
       "    <tr>\n",
       "      <th>3</th>\n",
       "      <td>0.000000</td>\n",
       "      <td>0.0</td>\n",
       "      <td>0.0</td>\n",
       "      <td>0.000000</td>\n",
       "      <td>0.045538</td>\n",
       "      <td>0.039742</td>\n",
       "      <td>0.000000</td>\n",
       "      <td>0.0</td>\n",
       "      <td>0.005256</td>\n",
       "      <td>0.000000</td>\n",
       "      <td>...</td>\n",
       "      <td>0.019565</td>\n",
       "      <td>0.030511</td>\n",
       "      <td>0.079235</td>\n",
       "      <td>0.030145</td>\n",
       "      <td>0.081401</td>\n",
       "      <td>0.016900</td>\n",
       "      <td>0.083693</td>\n",
       "      <td>0.048155</td>\n",
       "      <td>0.039538</td>\n",
       "      <td>NaN</td>\n",
       "    </tr>\n",
       "    <tr>\n",
       "      <th>4</th>\n",
       "      <td>0.083702</td>\n",
       "      <td>0.0</td>\n",
       "      <td>0.0</td>\n",
       "      <td>0.000000</td>\n",
       "      <td>0.000000</td>\n",
       "      <td>0.052591</td>\n",
       "      <td>0.058039</td>\n",
       "      <td>0.0</td>\n",
       "      <td>0.002714</td>\n",
       "      <td>0.021816</td>\n",
       "      <td>...</td>\n",
       "      <td>0.000000</td>\n",
       "      <td>0.096303</td>\n",
       "      <td>0.081569</td>\n",
       "      <td>0.000000</td>\n",
       "      <td>0.000000</td>\n",
       "      <td>0.102030</td>\n",
       "      <td>0.000000</td>\n",
       "      <td>0.094567</td>\n",
       "      <td>0.000000</td>\n",
       "      <td>NaN</td>\n",
       "    </tr>\n",
       "  </tbody>\n",
       "</table>\n",
       "<p>5 rows × 673 columns</p>\n",
       "</div>"
      ],
      "text/plain": [
       "          1    2    3         4         5         6         7    8         9  \\\n",
       "0  0.000000  0.0  0.0  0.000000  0.000000  0.019346  0.000000  0.0  0.000130   \n",
       "1  0.000000  0.0  0.0  0.001084  0.000000  0.019786  0.000000  0.0  0.003075   \n",
       "2  0.000000  0.0  0.0  0.004751  0.000000  0.017630  0.000000  0.0  0.000544   \n",
       "3  0.000000  0.0  0.0  0.000000  0.045538  0.039742  0.000000  0.0  0.005256   \n",
       "4  0.083702  0.0  0.0  0.000000  0.000000  0.052591  0.058039  0.0  0.002714   \n",
       "\n",
       "         10    ...           664       665       666       667       668  \\\n",
       "0  0.000000    ...      0.000000  0.005642  0.065616  0.045650  0.074718   \n",
       "1  0.000000    ...      0.000000  0.098548  0.079283  0.000000  0.000000   \n",
       "2  0.000000    ...      0.000000  0.000000  0.067926  0.063938  0.077349   \n",
       "3  0.000000    ...      0.019565  0.030511  0.079235  0.030145  0.081401   \n",
       "4  0.021816    ...      0.000000  0.096303  0.081569  0.000000  0.000000   \n",
       "\n",
       "        669       670       671       672  movimento  \n",
       "0  0.055232  0.074930  0.074140  0.073858        NaN  \n",
       "1  0.099168  0.000000  0.091917  0.000000        NaN  \n",
       "2  0.007715  0.077567  0.076771  0.076458        NaN  \n",
       "3  0.016900  0.083693  0.048155  0.039538        NaN  \n",
       "4  0.102030  0.000000  0.094567  0.000000        NaN  \n",
       "\n",
       "[5 rows x 673 columns]"
      ]
     },
     "execution_count": 15,
     "metadata": {},
     "output_type": "execute_result"
    }
   ],
   "source": [
    "data.head()"
   ]
  },
  {
   "cell_type": "code",
   "execution_count": 16,
   "metadata": {},
   "outputs": [],
   "source": [
    "data['movimento'] = 'empty'\n",
    "\n",
    "for i in range(389):\n",
    "    data['movimento'].values[i] = 'cubism'\n",
    "for i in range(389, 751):\n",
    "    data['movimento'].values[i] = 'express'\n",
    "for i in range(751, 1111):\n",
    "    data['movimento'].values[i] = 'realism'\n",
    "for i in range(1111, 1474):\n",
    "    data['movimento'].values[i] = 'romanti'    \n",
    "# for i in range(1829, 2241):\n",
    "#     data['movimento'].values[i] = 'romanti'        \n",
    "# for i in range(2241, 2650):\n",
    "#     data['movimento'].values[i] = 'surreal'"
   ]
  },
  {
   "cell_type": "code",
   "execution_count": 18,
   "metadata": {},
   "outputs": [],
   "source": [
    "data.to_csv('color_features_novo_32.csv', index=False)"
   ]
  },
  {
   "cell_type": "code",
   "execution_count": 17,
   "metadata": {},
   "outputs": [
    {
     "data": {
      "text/plain": [
       "cubism     389\n",
       "romanti    363\n",
       "express    362\n",
       "realism    360\n",
       "Name: movimento, dtype: int64"
      ]
     },
     "execution_count": 17,
     "metadata": {},
     "output_type": "execute_result"
    }
   ],
   "source": [
    "data['movimento'].value_counts()"
   ]
  },
  {
   "cell_type": "code",
   "execution_count": 17,
   "metadata": {},
   "outputs": [
    {
     "data": {
      "text/plain": [
       "'empty'"
      ]
     },
     "execution_count": 17,
     "metadata": {},
     "output_type": "execute_result"
    }
   ],
   "source": [
    "data['movimento'][448]"
   ]
  },
  {
   "cell_type": "code",
   "execution_count": null,
   "metadata": {},
   "outputs": [],
   "source": []
  }
 ],
 "metadata": {
  "kernelspec": {
   "display_name": "Python 3",
   "language": "python",
   "name": "python3"
  },
  "language_info": {
   "codemirror_mode": {
    "name": "ipython",
    "version": 3
   },
   "file_extension": ".py",
   "mimetype": "text/x-python",
   "name": "python",
   "nbconvert_exporter": "python",
   "pygments_lexer": "ipython3",
   "version": "3.5.2"
  }
 },
 "nbformat": 4,
 "nbformat_minor": 2
}
