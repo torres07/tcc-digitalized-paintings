{
 "cells": [
  {
   "cell_type": "code",
   "execution_count": 1,
   "metadata": {
    "scrolled": true
   },
   "outputs": [],
   "source": [
    "%matplotlib inline\n",
    "import matplotlib.pyplot as plt\n",
    "import numpy as np\n",
    "import pandas as pd\n",
    "from sklearn.model_selection import GridSearchCV\n",
    "from sklearn.model_selection import train_test_split\n",
    "from sklearn.model_selection import cross_val_score"
   ]
  },
  {
   "cell_type": "code",
   "execution_count": 2,
   "metadata": {},
   "outputs": [],
   "source": [
    "data = pd.read_csv('GIST/gistdescriptor/csv/genre_base.csv')\n",
    "# data = data.rename(columns={'513': 'movimento'})"
   ]
  },
  {
   "cell_type": "code",
   "execution_count": 3,
   "metadata": {},
   "outputs": [
    {
     "data": {
      "text/html": [
       "<div>\n",
       "<style scoped>\n",
       "    .dataframe tbody tr th:only-of-type {\n",
       "        vertical-align: middle;\n",
       "    }\n",
       "\n",
       "    .dataframe tbody tr th {\n",
       "        vertical-align: top;\n",
       "    }\n",
       "\n",
       "    .dataframe thead th {\n",
       "        text-align: right;\n",
       "    }\n",
       "</style>\n",
       "<table border=\"1\" class=\"dataframe\">\n",
       "  <thead>\n",
       "    <tr style=\"text-align: right;\">\n",
       "      <th></th>\n",
       "      <th>1</th>\n",
       "      <th>2</th>\n",
       "      <th>3</th>\n",
       "      <th>4</th>\n",
       "      <th>5</th>\n",
       "      <th>6</th>\n",
       "      <th>7</th>\n",
       "      <th>8</th>\n",
       "      <th>9</th>\n",
       "      <th>10</th>\n",
       "      <th>...</th>\n",
       "      <th>504</th>\n",
       "      <th>505</th>\n",
       "      <th>506</th>\n",
       "      <th>507</th>\n",
       "      <th>508</th>\n",
       "      <th>509</th>\n",
       "      <th>510</th>\n",
       "      <th>511</th>\n",
       "      <th>512</th>\n",
       "      <th>genre</th>\n",
       "    </tr>\n",
       "  </thead>\n",
       "  <tbody>\n",
       "    <tr>\n",
       "      <th>0</th>\n",
       "      <td>0.017317</td>\n",
       "      <td>0.030186</td>\n",
       "      <td>0.030815</td>\n",
       "      <td>0.028425</td>\n",
       "      <td>0.020348</td>\n",
       "      <td>0.078890</td>\n",
       "      <td>0.069217</td>\n",
       "      <td>0.025063</td>\n",
       "      <td>0.006336</td>\n",
       "      <td>0.041223</td>\n",
       "      <td>...</td>\n",
       "      <td>0.037972</td>\n",
       "      <td>0.009403</td>\n",
       "      <td>0.045007</td>\n",
       "      <td>0.040966</td>\n",
       "      <td>0.045195</td>\n",
       "      <td>0.026202</td>\n",
       "      <td>0.047200</td>\n",
       "      <td>0.053431</td>\n",
       "      <td>0.043252</td>\n",
       "      <td>abstract</td>\n",
       "    </tr>\n",
       "    <tr>\n",
       "      <th>1</th>\n",
       "      <td>0.032988</td>\n",
       "      <td>0.069236</td>\n",
       "      <td>0.047456</td>\n",
       "      <td>0.045452</td>\n",
       "      <td>0.024791</td>\n",
       "      <td>0.043263</td>\n",
       "      <td>0.040768</td>\n",
       "      <td>0.045343</td>\n",
       "      <td>0.018062</td>\n",
       "      <td>0.053376</td>\n",
       "      <td>...</td>\n",
       "      <td>0.050639</td>\n",
       "      <td>0.011965</td>\n",
       "      <td>0.048397</td>\n",
       "      <td>0.056287</td>\n",
       "      <td>0.060342</td>\n",
       "      <td>0.015037</td>\n",
       "      <td>0.041248</td>\n",
       "      <td>0.032714</td>\n",
       "      <td>0.054782</td>\n",
       "      <td>abstract</td>\n",
       "    </tr>\n",
       "    <tr>\n",
       "      <th>2</th>\n",
       "      <td>0.011896</td>\n",
       "      <td>0.018126</td>\n",
       "      <td>0.071212</td>\n",
       "      <td>0.060199</td>\n",
       "      <td>0.057507</td>\n",
       "      <td>0.119530</td>\n",
       "      <td>0.121630</td>\n",
       "      <td>0.081846</td>\n",
       "      <td>0.066783</td>\n",
       "      <td>0.090399</td>\n",
       "      <td>...</td>\n",
       "      <td>0.079447</td>\n",
       "      <td>0.073644</td>\n",
       "      <td>0.088853</td>\n",
       "      <td>0.076518</td>\n",
       "      <td>0.061559</td>\n",
       "      <td>0.039568</td>\n",
       "      <td>0.047357</td>\n",
       "      <td>0.061773</td>\n",
       "      <td>0.078261</td>\n",
       "      <td>abstract</td>\n",
       "    </tr>\n",
       "    <tr>\n",
       "      <th>3</th>\n",
       "      <td>0.025888</td>\n",
       "      <td>0.036705</td>\n",
       "      <td>0.069812</td>\n",
       "      <td>0.077940</td>\n",
       "      <td>0.028389</td>\n",
       "      <td>0.066660</td>\n",
       "      <td>0.098081</td>\n",
       "      <td>0.070147</td>\n",
       "      <td>0.082244</td>\n",
       "      <td>0.091343</td>\n",
       "      <td>...</td>\n",
       "      <td>0.057203</td>\n",
       "      <td>0.045338</td>\n",
       "      <td>0.078526</td>\n",
       "      <td>0.074957</td>\n",
       "      <td>0.047541</td>\n",
       "      <td>0.051921</td>\n",
       "      <td>0.078097</td>\n",
       "      <td>0.074750</td>\n",
       "      <td>0.057616</td>\n",
       "      <td>abstract</td>\n",
       "    </tr>\n",
       "    <tr>\n",
       "      <th>4</th>\n",
       "      <td>0.025851</td>\n",
       "      <td>0.044690</td>\n",
       "      <td>0.045490</td>\n",
       "      <td>0.041398</td>\n",
       "      <td>0.026192</td>\n",
       "      <td>0.050661</td>\n",
       "      <td>0.077047</td>\n",
       "      <td>0.046822</td>\n",
       "      <td>0.010360</td>\n",
       "      <td>0.023991</td>\n",
       "      <td>...</td>\n",
       "      <td>0.067070</td>\n",
       "      <td>0.011698</td>\n",
       "      <td>0.023013</td>\n",
       "      <td>0.049261</td>\n",
       "      <td>0.046258</td>\n",
       "      <td>0.032265</td>\n",
       "      <td>0.053014</td>\n",
       "      <td>0.062464</td>\n",
       "      <td>0.040600</td>\n",
       "      <td>abstract</td>\n",
       "    </tr>\n",
       "  </tbody>\n",
       "</table>\n",
       "<p>5 rows × 513 columns</p>\n",
       "</div>"
      ],
      "text/plain": [
       "          1         2         3         4         5         6         7  \\\n",
       "0  0.017317  0.030186  0.030815  0.028425  0.020348  0.078890  0.069217   \n",
       "1  0.032988  0.069236  0.047456  0.045452  0.024791  0.043263  0.040768   \n",
       "2  0.011896  0.018126  0.071212  0.060199  0.057507  0.119530  0.121630   \n",
       "3  0.025888  0.036705  0.069812  0.077940  0.028389  0.066660  0.098081   \n",
       "4  0.025851  0.044690  0.045490  0.041398  0.026192  0.050661  0.077047   \n",
       "\n",
       "          8         9        10    ...          504       505       506  \\\n",
       "0  0.025063  0.006336  0.041223    ...     0.037972  0.009403  0.045007   \n",
       "1  0.045343  0.018062  0.053376    ...     0.050639  0.011965  0.048397   \n",
       "2  0.081846  0.066783  0.090399    ...     0.079447  0.073644  0.088853   \n",
       "3  0.070147  0.082244  0.091343    ...     0.057203  0.045338  0.078526   \n",
       "4  0.046822  0.010360  0.023991    ...     0.067070  0.011698  0.023013   \n",
       "\n",
       "        507       508       509       510       511       512     genre  \n",
       "0  0.040966  0.045195  0.026202  0.047200  0.053431  0.043252  abstract  \n",
       "1  0.056287  0.060342  0.015037  0.041248  0.032714  0.054782  abstract  \n",
       "2  0.076518  0.061559  0.039568  0.047357  0.061773  0.078261  abstract  \n",
       "3  0.074957  0.047541  0.051921  0.078097  0.074750  0.057616  abstract  \n",
       "4  0.049261  0.046258  0.032265  0.053014  0.062464  0.040600  abstract  \n",
       "\n",
       "[5 rows x 513 columns]"
      ]
     },
     "execution_count": 3,
     "metadata": {},
     "output_type": "execute_result"
    }
   ],
   "source": [
    "data.head()"
   ]
  },
  {
   "cell_type": "code",
   "execution_count": 4,
   "metadata": {},
   "outputs": [],
   "source": [
    "X = data.drop(['genre'], axis=1)\n",
    "Y = data['genre']"
   ]
  },
  {
   "cell_type": "code",
   "execution_count": 5,
   "metadata": {},
   "outputs": [
    {
     "data": {
      "text/html": [
       "<div>\n",
       "<style scoped>\n",
       "    .dataframe tbody tr th:only-of-type {\n",
       "        vertical-align: middle;\n",
       "    }\n",
       "\n",
       "    .dataframe tbody tr th {\n",
       "        vertical-align: top;\n",
       "    }\n",
       "\n",
       "    .dataframe thead th {\n",
       "        text-align: right;\n",
       "    }\n",
       "</style>\n",
       "<table border=\"1\" class=\"dataframe\">\n",
       "  <thead>\n",
       "    <tr style=\"text-align: right;\">\n",
       "      <th></th>\n",
       "      <th>1</th>\n",
       "      <th>2</th>\n",
       "      <th>3</th>\n",
       "      <th>4</th>\n",
       "      <th>5</th>\n",
       "      <th>6</th>\n",
       "      <th>7</th>\n",
       "      <th>8</th>\n",
       "      <th>9</th>\n",
       "      <th>10</th>\n",
       "      <th>...</th>\n",
       "      <th>503</th>\n",
       "      <th>504</th>\n",
       "      <th>505</th>\n",
       "      <th>506</th>\n",
       "      <th>507</th>\n",
       "      <th>508</th>\n",
       "      <th>509</th>\n",
       "      <th>510</th>\n",
       "      <th>511</th>\n",
       "      <th>512</th>\n",
       "    </tr>\n",
       "  </thead>\n",
       "  <tbody>\n",
       "    <tr>\n",
       "      <th>0</th>\n",
       "      <td>0.017317</td>\n",
       "      <td>0.030186</td>\n",
       "      <td>0.030815</td>\n",
       "      <td>0.028425</td>\n",
       "      <td>0.020348</td>\n",
       "      <td>0.078890</td>\n",
       "      <td>0.069217</td>\n",
       "      <td>0.025063</td>\n",
       "      <td>0.006336</td>\n",
       "      <td>0.041223</td>\n",
       "      <td>...</td>\n",
       "      <td>0.056990</td>\n",
       "      <td>0.037972</td>\n",
       "      <td>0.009403</td>\n",
       "      <td>0.045007</td>\n",
       "      <td>0.040966</td>\n",
       "      <td>0.045195</td>\n",
       "      <td>0.026202</td>\n",
       "      <td>0.047200</td>\n",
       "      <td>0.053431</td>\n",
       "      <td>0.043252</td>\n",
       "    </tr>\n",
       "    <tr>\n",
       "      <th>1</th>\n",
       "      <td>0.032988</td>\n",
       "      <td>0.069236</td>\n",
       "      <td>0.047456</td>\n",
       "      <td>0.045452</td>\n",
       "      <td>0.024791</td>\n",
       "      <td>0.043263</td>\n",
       "      <td>0.040768</td>\n",
       "      <td>0.045343</td>\n",
       "      <td>0.018062</td>\n",
       "      <td>0.053376</td>\n",
       "      <td>...</td>\n",
       "      <td>0.038511</td>\n",
       "      <td>0.050639</td>\n",
       "      <td>0.011965</td>\n",
       "      <td>0.048397</td>\n",
       "      <td>0.056287</td>\n",
       "      <td>0.060342</td>\n",
       "      <td>0.015037</td>\n",
       "      <td>0.041248</td>\n",
       "      <td>0.032714</td>\n",
       "      <td>0.054782</td>\n",
       "    </tr>\n",
       "    <tr>\n",
       "      <th>2</th>\n",
       "      <td>0.011896</td>\n",
       "      <td>0.018126</td>\n",
       "      <td>0.071212</td>\n",
       "      <td>0.060199</td>\n",
       "      <td>0.057507</td>\n",
       "      <td>0.119530</td>\n",
       "      <td>0.121630</td>\n",
       "      <td>0.081846</td>\n",
       "      <td>0.066783</td>\n",
       "      <td>0.090399</td>\n",
       "      <td>...</td>\n",
       "      <td>0.096646</td>\n",
       "      <td>0.079447</td>\n",
       "      <td>0.073644</td>\n",
       "      <td>0.088853</td>\n",
       "      <td>0.076518</td>\n",
       "      <td>0.061559</td>\n",
       "      <td>0.039568</td>\n",
       "      <td>0.047357</td>\n",
       "      <td>0.061773</td>\n",
       "      <td>0.078261</td>\n",
       "    </tr>\n",
       "    <tr>\n",
       "      <th>3</th>\n",
       "      <td>0.025888</td>\n",
       "      <td>0.036705</td>\n",
       "      <td>0.069812</td>\n",
       "      <td>0.077940</td>\n",
       "      <td>0.028389</td>\n",
       "      <td>0.066660</td>\n",
       "      <td>0.098081</td>\n",
       "      <td>0.070147</td>\n",
       "      <td>0.082244</td>\n",
       "      <td>0.091343</td>\n",
       "      <td>...</td>\n",
       "      <td>0.058751</td>\n",
       "      <td>0.057203</td>\n",
       "      <td>0.045338</td>\n",
       "      <td>0.078526</td>\n",
       "      <td>0.074957</td>\n",
       "      <td>0.047541</td>\n",
       "      <td>0.051921</td>\n",
       "      <td>0.078097</td>\n",
       "      <td>0.074750</td>\n",
       "      <td>0.057616</td>\n",
       "    </tr>\n",
       "    <tr>\n",
       "      <th>4</th>\n",
       "      <td>0.025851</td>\n",
       "      <td>0.044690</td>\n",
       "      <td>0.045490</td>\n",
       "      <td>0.041398</td>\n",
       "      <td>0.026192</td>\n",
       "      <td>0.050661</td>\n",
       "      <td>0.077047</td>\n",
       "      <td>0.046822</td>\n",
       "      <td>0.010360</td>\n",
       "      <td>0.023991</td>\n",
       "      <td>...</td>\n",
       "      <td>0.077882</td>\n",
       "      <td>0.067070</td>\n",
       "      <td>0.011698</td>\n",
       "      <td>0.023013</td>\n",
       "      <td>0.049261</td>\n",
       "      <td>0.046258</td>\n",
       "      <td>0.032265</td>\n",
       "      <td>0.053014</td>\n",
       "      <td>0.062464</td>\n",
       "      <td>0.040600</td>\n",
       "    </tr>\n",
       "  </tbody>\n",
       "</table>\n",
       "<p>5 rows × 512 columns</p>\n",
       "</div>"
      ],
      "text/plain": [
       "          1         2         3         4         5         6         7  \\\n",
       "0  0.017317  0.030186  0.030815  0.028425  0.020348  0.078890  0.069217   \n",
       "1  0.032988  0.069236  0.047456  0.045452  0.024791  0.043263  0.040768   \n",
       "2  0.011896  0.018126  0.071212  0.060199  0.057507  0.119530  0.121630   \n",
       "3  0.025888  0.036705  0.069812  0.077940  0.028389  0.066660  0.098081   \n",
       "4  0.025851  0.044690  0.045490  0.041398  0.026192  0.050661  0.077047   \n",
       "\n",
       "          8         9        10    ...          503       504       505  \\\n",
       "0  0.025063  0.006336  0.041223    ...     0.056990  0.037972  0.009403   \n",
       "1  0.045343  0.018062  0.053376    ...     0.038511  0.050639  0.011965   \n",
       "2  0.081846  0.066783  0.090399    ...     0.096646  0.079447  0.073644   \n",
       "3  0.070147  0.082244  0.091343    ...     0.058751  0.057203  0.045338   \n",
       "4  0.046822  0.010360  0.023991    ...     0.077882  0.067070  0.011698   \n",
       "\n",
       "        506       507       508       509       510       511       512  \n",
       "0  0.045007  0.040966  0.045195  0.026202  0.047200  0.053431  0.043252  \n",
       "1  0.048397  0.056287  0.060342  0.015037  0.041248  0.032714  0.054782  \n",
       "2  0.088853  0.076518  0.061559  0.039568  0.047357  0.061773  0.078261  \n",
       "3  0.078526  0.074957  0.047541  0.051921  0.078097  0.074750  0.057616  \n",
       "4  0.023013  0.049261  0.046258  0.032265  0.053014  0.062464  0.040600  \n",
       "\n",
       "[5 rows x 512 columns]"
      ]
     },
     "execution_count": 5,
     "metadata": {},
     "output_type": "execute_result"
    }
   ],
   "source": [
    "X.head()"
   ]
  },
  {
   "cell_type": "code",
   "execution_count": 6,
   "metadata": {
    "scrolled": true
   },
   "outputs": [
    {
     "data": {
      "text/plain": [
       "0    abstract\n",
       "1    abstract\n",
       "2    abstract\n",
       "3    abstract\n",
       "4    abstract\n",
       "Name: genre, dtype: object"
      ]
     },
     "execution_count": 6,
     "metadata": {},
     "output_type": "execute_result"
    }
   ],
   "source": [
    "Y.head()"
   ]
  },
  {
   "cell_type": "code",
   "execution_count": 7,
   "metadata": {},
   "outputs": [
    {
     "data": {
      "text/plain": [
       "<matplotlib.axes._subplots.AxesSubplot at 0x7f93669fa780>"
      ]
     },
     "execution_count": 7,
     "metadata": {},
     "output_type": "execute_result"
    },
    {
     "data": {
      "image/png": "[encoded data removed]",
      "text/plain": [
       "<Figure size 432x288 with 1 Axes>"
      ]
     },
     "metadata": {},
     "output_type": "display_data"
    }
   ],
   "source": [
    "data['genre'].value_counts().plot(kind='bar', rot=60, fontsize=12)"
   ]
  },
  {
   "cell_type": "code",
   "execution_count": 8,
   "metadata": {},
   "outputs": [],
   "source": [
    "from sklearn.model_selection import KFold\n",
    "kfold = KFold(n_splits=7)\n",
    "##for train_index, test_index in kfold.split(X):"
   ]
  },
  {
   "cell_type": "markdown",
   "metadata": {},
   "source": [
    "## Random forest"
   ]
  },
  {
   "cell_type": "markdown",
   "metadata": {},
   "source": [
    "from sklearn.ensemble import RandomForestClassifier\n",
    "\n",
    "clf_rf = RandomForestClassifier(random_state=0)\n",
    "\n",
    "param_grid = {\"max_depth\": [3, None],\n",
    "              \"max_features\": [1, 3, 10],\n",
    "              \"min_samples_split\": [2, 3, 10],\n",
    "              \"min_samples_leaf\": [1, 3, 10],\n",
    "              \"bootstrap\": [True, False],\n",
    "              \"criterion\": [\"gini\", \"entropy\"]}\n",
    "\n",
    "grid_search = GridSearchCV(clf_rf, param_grid=param_grid)\n",
    "grid_search.fit(X, Y)"
   ]
  },
  {
   "cell_type": "markdown",
   "metadata": {},
   "source": [
    "results_rf = cross_val_score(grid_search, X, Y, cv=kfold)\n",
    "print (results_rf.mean())"
   ]
  },
  {
   "cell_type": "markdown",
   "metadata": {},
   "source": [
    "## MLP"
   ]
  },
  {
   "cell_type": "code",
   "execution_count": 9,
   "metadata": {},
   "outputs": [
    {
     "name": "stderr",
     "output_type": "stream",
     "text": [
      "/home/pedrotorres/miniconda3/lib/python3.6/site-packages/sklearn/neural_network/multilayer_perceptron.py:564: ConvergenceWarning: Stochastic Optimizer: Maximum iterations (1500) reached and the optimization hasn't converged yet.\n",
      "  % self.max_iter, ConvergenceWarning)\n",
      "/home/pedrotorres/miniconda3/lib/python3.6/site-packages/sklearn/neural_network/multilayer_perceptron.py:564: ConvergenceWarning: Stochastic Optimizer: Maximum iterations (1500) reached and the optimization hasn't converged yet.\n",
      "  % self.max_iter, ConvergenceWarning)\n",
      "/home/pedrotorres/miniconda3/lib/python3.6/site-packages/sklearn/neural_network/multilayer_perceptron.py:564: ConvergenceWarning: Stochastic Optimizer: Maximum iterations (1500) reached and the optimization hasn't converged yet.\n",
      "  % self.max_iter, ConvergenceWarning)\n",
      "/home/pedrotorres/miniconda3/lib/python3.6/site-packages/sklearn/neural_network/multilayer_perceptron.py:564: ConvergenceWarning: Stochastic Optimizer: Maximum iterations (1500) reached and the optimization hasn't converged yet.\n",
      "  % self.max_iter, ConvergenceWarning)\n"
     ]
    }
   ],
   "source": [
    "from sklearn.neural_network import MLPClassifier\n",
    "\n",
    "param_grid = {'solver' : ['lbfgs', 'sgd', 'adam'],\n",
    "              'activation' : ['identity', 'logistic', 'tanh', 'relu'],\n",
    "              'learning_rate' : ['constant', 'invscaling', 'adaptive'],\n",
    "              'max_iter': [1500, 2000]\n",
    "             }\n",
    "\n",
    "clf = MLPClassifier(random_state=0)\n",
    "\n",
    "grid_search_mlp = GridSearchCV(clf, param_grid=param_grid)\n",
    "grid_search_mlp.fit(X, Y)\n",
    "\n",
    "clf = grid_search_mlp.best_estimator_"
   ]
  },
  {
   "cell_type": "code",
   "execution_count": 12,
   "metadata": {},
   "outputs": [
    {
     "ename": "NameError",
     "evalue": "name 'results_rf' is not defined",
     "output_type": "error",
     "traceback": [
      "\u001b[0;31m---------------------------------------------------------------------------\u001b[0m",
      "\u001b[0;31mNameError\u001b[0m                                 Traceback (most recent call last)",
      "\u001b[0;32m<ipython-input-12-c4291994f8f6>\u001b[0m in \u001b[0;36m<module>\u001b[0;34m()\u001b[0m\n\u001b[1;32m      1\u001b[0m \u001b[0mresults_mlp\u001b[0m \u001b[0;34m=\u001b[0m \u001b[0mcross_val_score\u001b[0m\u001b[0;34m(\u001b[0m\u001b[0mclf\u001b[0m\u001b[0;34m,\u001b[0m \u001b[0mX\u001b[0m\u001b[0;34m,\u001b[0m \u001b[0mY\u001b[0m\u001b[0;34m,\u001b[0m \u001b[0mcv\u001b[0m\u001b[0;34m=\u001b[0m\u001b[0mkfold\u001b[0m\u001b[0;34m)\u001b[0m\u001b[0;34m\u001b[0m\u001b[0m\n\u001b[0;32m----> 2\u001b[0;31m \u001b[0mprint\u001b[0m \u001b[0;34m(\u001b[0m\u001b[0mresults_rf\u001b[0m\u001b[0;34m.\u001b[0m\u001b[0mmean\u001b[0m\u001b[0;34m(\u001b[0m\u001b[0;34m)\u001b[0m\u001b[0;34m)\u001b[0m\u001b[0;34m\u001b[0m\u001b[0m\n\u001b[0m",
      "\u001b[0;31mNameError\u001b[0m: name 'results_rf' is not defined"
     ]
    }
   ],
   "source": [
    "results_mlp = cross_val_score(clf, X, Y, cv=kfold)"
   ]
  },
  {
   "cell_type": "code",
   "execution_count": 13,
   "metadata": {},
   "outputs": [
    {
     "name": "stdout",
     "output_type": "stream",
     "text": [
      "0.2774213210997401\n"
     ]
    }
   ],
   "source": [
    "print (results_mlp.mean())"
   ]
  },
  {
   "cell_type": "code",
   "execution_count": null,
   "metadata": {},
   "outputs": [],
   "source": []
  }
 ],
 "metadata": {
  "kernelspec": {
   "display_name": "Python 3",
   "language": "python",
   "name": "python3"
  },
  "language_info": {
   "codemirror_mode": {
    "name": "ipython",
    "version": 3
   },
   "file_extension": ".py",
   "mimetype": "text/x-python",
   "name": "python",
   "nbconvert_exporter": "python",
   "pygments_lexer": "ipython3",
   "version": "3.6.4"
  }
 },
 "nbformat": 4,
 "nbformat_minor": 2
}
