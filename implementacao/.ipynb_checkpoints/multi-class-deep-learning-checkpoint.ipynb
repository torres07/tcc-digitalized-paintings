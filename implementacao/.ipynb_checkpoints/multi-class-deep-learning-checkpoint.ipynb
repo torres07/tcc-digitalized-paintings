{
 "cells": [
  {
   "cell_type": "code",
   "execution_count": 1,
   "metadata": {},
   "outputs": [
    {
     "name": "stderr",
     "output_type": "stream",
     "text": [
      "/home/pedrotorres/miniconda3/lib/python3.6/site-packages/h5py/__init__.py:36: FutureWarning: Conversion of the second argument of issubdtype from `float` to `np.floating` is deprecated. In future, it will be treated as `np.float64 == np.dtype(float).type`.\n",
      "  from ._conv import register_converters as _register_converters\n",
      "Using TensorFlow backend.\n"
     ]
    }
   ],
   "source": [
    "%matplotlib inline\n",
    "import matplotlib.pyplot as plt\n",
    "import numpy\n",
    "import pandas\n",
    "from keras.models import Sequential\n",
    "from keras.layers import Dense\n",
    "from keras.wrappers.scikit_learn import KerasClassifier\n",
    "from keras.utils import np_utils\n",
    "from sklearn.model_selection import cross_val_score\n",
    "from sklearn.model_selection import KFold\n",
    "from sklearn.preprocessing import LabelEncoder\n",
    "from sklearn.pipeline import Pipeline\n",
    "from keras.optimizers import Adam"
   ]
  },
  {
   "cell_type": "code",
   "execution_count": 2,
   "metadata": {},
   "outputs": [],
   "source": [
    "# fix random seed for reproducibility\n",
    "seed = 7\n",
    "numpy.random.seed(seed)"
   ]
  },
  {
   "cell_type": "code",
   "execution_count": 65,
   "metadata": {
    "scrolled": true
   },
   "outputs": [
    {
     "data": {
      "text/html": [
       "<div>\n",
       "<style scoped>\n",
       "    .dataframe tbody tr th:only-of-type {\n",
       "        vertical-align: middle;\n",
       "    }\n",
       "\n",
       "    .dataframe tbody tr th {\n",
       "        vertical-align: top;\n",
       "    }\n",
       "\n",
       "    .dataframe thead th {\n",
       "        text-align: right;\n",
       "    }\n",
       "</style>\n",
       "<table border=\"1\" class=\"dataframe\">\n",
       "  <thead>\n",
       "    <tr style=\"text-align: right;\">\n",
       "      <th></th>\n",
       "      <th>1</th>\n",
       "      <th>2</th>\n",
       "      <th>3</th>\n",
       "      <th>4</th>\n",
       "      <th>5</th>\n",
       "      <th>6</th>\n",
       "      <th>7</th>\n",
       "      <th>8</th>\n",
       "      <th>9</th>\n",
       "      <th>10</th>\n",
       "      <th>...</th>\n",
       "      <th>664</th>\n",
       "      <th>665</th>\n",
       "      <th>666</th>\n",
       "      <th>667</th>\n",
       "      <th>668</th>\n",
       "      <th>669</th>\n",
       "      <th>670</th>\n",
       "      <th>671</th>\n",
       "      <th>672</th>\n",
       "      <th>movimento</th>\n",
       "    </tr>\n",
       "  </thead>\n",
       "  <tbody>\n",
       "    <tr>\n",
       "      <th>0</th>\n",
       "      <td>0.000000</td>\n",
       "      <td>0.0</td>\n",
       "      <td>0.0</td>\n",
       "      <td>0.000000</td>\n",
       "      <td>0.000000</td>\n",
       "      <td>0.019346</td>\n",
       "      <td>0.000000</td>\n",
       "      <td>0.0</td>\n",
       "      <td>0.000130</td>\n",
       "      <td>0.000000</td>\n",
       "      <td>...</td>\n",
       "      <td>0.000000</td>\n",
       "      <td>0.005642</td>\n",
       "      <td>0.065616</td>\n",
       "      <td>0.045650</td>\n",
       "      <td>0.074718</td>\n",
       "      <td>0.055232</td>\n",
       "      <td>0.074930</td>\n",
       "      <td>0.074140</td>\n",
       "      <td>0.073858</td>\n",
       "      <td>cubism</td>\n",
       "    </tr>\n",
       "    <tr>\n",
       "      <th>1</th>\n",
       "      <td>0.000000</td>\n",
       "      <td>0.0</td>\n",
       "      <td>0.0</td>\n",
       "      <td>0.001084</td>\n",
       "      <td>0.000000</td>\n",
       "      <td>0.019786</td>\n",
       "      <td>0.000000</td>\n",
       "      <td>0.0</td>\n",
       "      <td>0.003075</td>\n",
       "      <td>0.000000</td>\n",
       "      <td>...</td>\n",
       "      <td>0.000000</td>\n",
       "      <td>0.098548</td>\n",
       "      <td>0.079283</td>\n",
       "      <td>0.000000</td>\n",
       "      <td>0.000000</td>\n",
       "      <td>0.099168</td>\n",
       "      <td>0.000000</td>\n",
       "      <td>0.091917</td>\n",
       "      <td>0.000000</td>\n",
       "      <td>cubism</td>\n",
       "    </tr>\n",
       "    <tr>\n",
       "      <th>2</th>\n",
       "      <td>0.000000</td>\n",
       "      <td>0.0</td>\n",
       "      <td>0.0</td>\n",
       "      <td>0.004751</td>\n",
       "      <td>0.000000</td>\n",
       "      <td>0.017630</td>\n",
       "      <td>0.000000</td>\n",
       "      <td>0.0</td>\n",
       "      <td>0.000544</td>\n",
       "      <td>0.000000</td>\n",
       "      <td>...</td>\n",
       "      <td>0.000000</td>\n",
       "      <td>0.000000</td>\n",
       "      <td>0.067926</td>\n",
       "      <td>0.063938</td>\n",
       "      <td>0.077349</td>\n",
       "      <td>0.007715</td>\n",
       "      <td>0.077567</td>\n",
       "      <td>0.076771</td>\n",
       "      <td>0.076458</td>\n",
       "      <td>cubism</td>\n",
       "    </tr>\n",
       "    <tr>\n",
       "      <th>3</th>\n",
       "      <td>0.000000</td>\n",
       "      <td>0.0</td>\n",
       "      <td>0.0</td>\n",
       "      <td>0.000000</td>\n",
       "      <td>0.045538</td>\n",
       "      <td>0.039742</td>\n",
       "      <td>0.000000</td>\n",
       "      <td>0.0</td>\n",
       "      <td>0.005256</td>\n",
       "      <td>0.000000</td>\n",
       "      <td>...</td>\n",
       "      <td>0.019565</td>\n",
       "      <td>0.030511</td>\n",
       "      <td>0.079235</td>\n",
       "      <td>0.030145</td>\n",
       "      <td>0.081401</td>\n",
       "      <td>0.016900</td>\n",
       "      <td>0.083693</td>\n",
       "      <td>0.048155</td>\n",
       "      <td>0.039538</td>\n",
       "      <td>cubism</td>\n",
       "    </tr>\n",
       "    <tr>\n",
       "      <th>4</th>\n",
       "      <td>0.083702</td>\n",
       "      <td>0.0</td>\n",
       "      <td>0.0</td>\n",
       "      <td>0.000000</td>\n",
       "      <td>0.000000</td>\n",
       "      <td>0.052591</td>\n",
       "      <td>0.058039</td>\n",
       "      <td>0.0</td>\n",
       "      <td>0.002714</td>\n",
       "      <td>0.021816</td>\n",
       "      <td>...</td>\n",
       "      <td>0.000000</td>\n",
       "      <td>0.096303</td>\n",
       "      <td>0.081569</td>\n",
       "      <td>0.000000</td>\n",
       "      <td>0.000000</td>\n",
       "      <td>0.102030</td>\n",
       "      <td>0.000000</td>\n",
       "      <td>0.094567</td>\n",
       "      <td>0.000000</td>\n",
       "      <td>cubism</td>\n",
       "    </tr>\n",
       "  </tbody>\n",
       "</table>\n",
       "<p>5 rows × 673 columns</p>\n",
       "</div>"
      ],
      "text/plain": [
       "          1    2    3         4         5         6         7    8         9  \\\n",
       "0  0.000000  0.0  0.0  0.000000  0.000000  0.019346  0.000000  0.0  0.000130   \n",
       "1  0.000000  0.0  0.0  0.001084  0.000000  0.019786  0.000000  0.0  0.003075   \n",
       "2  0.000000  0.0  0.0  0.004751  0.000000  0.017630  0.000000  0.0  0.000544   \n",
       "3  0.000000  0.0  0.0  0.000000  0.045538  0.039742  0.000000  0.0  0.005256   \n",
       "4  0.083702  0.0  0.0  0.000000  0.000000  0.052591  0.058039  0.0  0.002714   \n",
       "\n",
       "         10    ...           664       665       666       667       668  \\\n",
       "0  0.000000    ...      0.000000  0.005642  0.065616  0.045650  0.074718   \n",
       "1  0.000000    ...      0.000000  0.098548  0.079283  0.000000  0.000000   \n",
       "2  0.000000    ...      0.000000  0.000000  0.067926  0.063938  0.077349   \n",
       "3  0.000000    ...      0.019565  0.030511  0.079235  0.030145  0.081401   \n",
       "4  0.021816    ...      0.000000  0.096303  0.081569  0.000000  0.000000   \n",
       "\n",
       "        669       670       671       672  movimento  \n",
       "0  0.055232  0.074930  0.074140  0.073858     cubism  \n",
       "1  0.099168  0.000000  0.091917  0.000000     cubism  \n",
       "2  0.007715  0.077567  0.076771  0.076458     cubism  \n",
       "3  0.016900  0.083693  0.048155  0.039538     cubism  \n",
       "4  0.102030  0.000000  0.094567  0.000000     cubism  \n",
       "\n",
       "[5 rows x 673 columns]"
      ]
     },
     "execution_count": 65,
     "metadata": {},
     "output_type": "execute_result"
    }
   ],
   "source": [
    "# load dataset\n",
    "dataframe = pandas.read_csv('COLOR/csv/color_features_novo_32.csv')\n",
    "dataframe = dataframe[dataframe.movimento != 'realism']\n",
    "# dataframe = dataframe[dataframe.movimento != 'surreal']\n",
    "# dataset = dataframe.values\n",
    "# X = dataset[:,0:4].astype(float)\n",
    "# Y = dataset[:,4]\n",
    "dataframe.head()"
   ]
  },
  {
   "cell_type": "code",
   "execution_count": 66,
   "metadata": {},
   "outputs": [
    {
     "data": {
      "text/plain": [
       "<matplotlib.axes._subplots.AxesSubplot at 0x7fa10b6a44e0>"
      ]
     },
     "execution_count": 66,
     "metadata": {},
     "output_type": "execute_result"
    },
    {
     "data": {
      "image/png": "[encoded data removed]",
      "text/plain": [
       "<Figure size 432x288 with 1 Axes>"
      ]
     },
     "metadata": {},
     "output_type": "display_data"
    }
   ],
   "source": [
    "dataframe['movimento'].value_counts().plot(kind='bar', rot=60, fontsize=12)"
   ]
  },
  {
   "cell_type": "code",
   "execution_count": 67,
   "metadata": {},
   "outputs": [],
   "source": [
    "# dataframe = dataframe[:2048]\n",
    "X = dataframe.drop(['movimento'], axis=1)\n",
    "y = dataframe['movimento']"
   ]
  },
  {
   "cell_type": "code",
   "execution_count": 68,
   "metadata": {
    "scrolled": true
   },
   "outputs": [
    {
     "data": {
      "text/html": [
       "<div>\n",
       "<style scoped>\n",
       "    .dataframe tbody tr th:only-of-type {\n",
       "        vertical-align: middle;\n",
       "    }\n",
       "\n",
       "    .dataframe tbody tr th {\n",
       "        vertical-align: top;\n",
       "    }\n",
       "\n",
       "    .dataframe thead th {\n",
       "        text-align: right;\n",
       "    }\n",
       "</style>\n",
       "<table border=\"1\" class=\"dataframe\">\n",
       "  <thead>\n",
       "    <tr style=\"text-align: right;\">\n",
       "      <th></th>\n",
       "      <th>1</th>\n",
       "      <th>2</th>\n",
       "      <th>3</th>\n",
       "      <th>4</th>\n",
       "      <th>5</th>\n",
       "      <th>6</th>\n",
       "      <th>7</th>\n",
       "      <th>8</th>\n",
       "      <th>9</th>\n",
       "      <th>10</th>\n",
       "      <th>...</th>\n",
       "      <th>663</th>\n",
       "      <th>664</th>\n",
       "      <th>665</th>\n",
       "      <th>666</th>\n",
       "      <th>667</th>\n",
       "      <th>668</th>\n",
       "      <th>669</th>\n",
       "      <th>670</th>\n",
       "      <th>671</th>\n",
       "      <th>672</th>\n",
       "    </tr>\n",
       "  </thead>\n",
       "  <tbody>\n",
       "    <tr>\n",
       "      <th>0</th>\n",
       "      <td>0.000000</td>\n",
       "      <td>0.0</td>\n",
       "      <td>0.0</td>\n",
       "      <td>0.000000</td>\n",
       "      <td>0.000000</td>\n",
       "      <td>0.019346</td>\n",
       "      <td>0.000000</td>\n",
       "      <td>0.0</td>\n",
       "      <td>0.000130</td>\n",
       "      <td>0.000000</td>\n",
       "      <td>...</td>\n",
       "      <td>0.071440</td>\n",
       "      <td>0.000000</td>\n",
       "      <td>0.005642</td>\n",
       "      <td>0.065616</td>\n",
       "      <td>0.045650</td>\n",
       "      <td>0.074718</td>\n",
       "      <td>0.055232</td>\n",
       "      <td>0.074930</td>\n",
       "      <td>0.074140</td>\n",
       "      <td>0.073858</td>\n",
       "    </tr>\n",
       "    <tr>\n",
       "      <th>1</th>\n",
       "      <td>0.000000</td>\n",
       "      <td>0.0</td>\n",
       "      <td>0.0</td>\n",
       "      <td>0.001084</td>\n",
       "      <td>0.000000</td>\n",
       "      <td>0.019786</td>\n",
       "      <td>0.000000</td>\n",
       "      <td>0.0</td>\n",
       "      <td>0.003075</td>\n",
       "      <td>0.000000</td>\n",
       "      <td>...</td>\n",
       "      <td>0.086319</td>\n",
       "      <td>0.000000</td>\n",
       "      <td>0.098548</td>\n",
       "      <td>0.079283</td>\n",
       "      <td>0.000000</td>\n",
       "      <td>0.000000</td>\n",
       "      <td>0.099168</td>\n",
       "      <td>0.000000</td>\n",
       "      <td>0.091917</td>\n",
       "      <td>0.000000</td>\n",
       "    </tr>\n",
       "    <tr>\n",
       "      <th>2</th>\n",
       "      <td>0.000000</td>\n",
       "      <td>0.0</td>\n",
       "      <td>0.0</td>\n",
       "      <td>0.004751</td>\n",
       "      <td>0.000000</td>\n",
       "      <td>0.017630</td>\n",
       "      <td>0.000000</td>\n",
       "      <td>0.0</td>\n",
       "      <td>0.000544</td>\n",
       "      <td>0.000000</td>\n",
       "      <td>...</td>\n",
       "      <td>0.071493</td>\n",
       "      <td>0.000000</td>\n",
       "      <td>0.000000</td>\n",
       "      <td>0.067926</td>\n",
       "      <td>0.063938</td>\n",
       "      <td>0.077349</td>\n",
       "      <td>0.007715</td>\n",
       "      <td>0.077567</td>\n",
       "      <td>0.076771</td>\n",
       "      <td>0.076458</td>\n",
       "    </tr>\n",
       "    <tr>\n",
       "      <th>3</th>\n",
       "      <td>0.000000</td>\n",
       "      <td>0.0</td>\n",
       "      <td>0.0</td>\n",
       "      <td>0.000000</td>\n",
       "      <td>0.045538</td>\n",
       "      <td>0.039742</td>\n",
       "      <td>0.000000</td>\n",
       "      <td>0.0</td>\n",
       "      <td>0.005256</td>\n",
       "      <td>0.000000</td>\n",
       "      <td>...</td>\n",
       "      <td>0.086268</td>\n",
       "      <td>0.019565</td>\n",
       "      <td>0.030511</td>\n",
       "      <td>0.079235</td>\n",
       "      <td>0.030145</td>\n",
       "      <td>0.081401</td>\n",
       "      <td>0.016900</td>\n",
       "      <td>0.083693</td>\n",
       "      <td>0.048155</td>\n",
       "      <td>0.039538</td>\n",
       "    </tr>\n",
       "    <tr>\n",
       "      <th>4</th>\n",
       "      <td>0.083702</td>\n",
       "      <td>0.0</td>\n",
       "      <td>0.0</td>\n",
       "      <td>0.000000</td>\n",
       "      <td>0.000000</td>\n",
       "      <td>0.052591</td>\n",
       "      <td>0.058039</td>\n",
       "      <td>0.0</td>\n",
       "      <td>0.002714</td>\n",
       "      <td>0.021816</td>\n",
       "      <td>...</td>\n",
       "      <td>0.088808</td>\n",
       "      <td>0.000000</td>\n",
       "      <td>0.096303</td>\n",
       "      <td>0.081569</td>\n",
       "      <td>0.000000</td>\n",
       "      <td>0.000000</td>\n",
       "      <td>0.102030</td>\n",
       "      <td>0.000000</td>\n",
       "      <td>0.094567</td>\n",
       "      <td>0.000000</td>\n",
       "    </tr>\n",
       "  </tbody>\n",
       "</table>\n",
       "<p>5 rows × 672 columns</p>\n",
       "</div>"
      ],
      "text/plain": [
       "          1    2    3         4         5         6         7    8         9  \\\n",
       "0  0.000000  0.0  0.0  0.000000  0.000000  0.019346  0.000000  0.0  0.000130   \n",
       "1  0.000000  0.0  0.0  0.001084  0.000000  0.019786  0.000000  0.0  0.003075   \n",
       "2  0.000000  0.0  0.0  0.004751  0.000000  0.017630  0.000000  0.0  0.000544   \n",
       "3  0.000000  0.0  0.0  0.000000  0.045538  0.039742  0.000000  0.0  0.005256   \n",
       "4  0.083702  0.0  0.0  0.000000  0.000000  0.052591  0.058039  0.0  0.002714   \n",
       "\n",
       "         10    ...          663       664       665       666       667  \\\n",
       "0  0.000000    ...     0.071440  0.000000  0.005642  0.065616  0.045650   \n",
       "1  0.000000    ...     0.086319  0.000000  0.098548  0.079283  0.000000   \n",
       "2  0.000000    ...     0.071493  0.000000  0.000000  0.067926  0.063938   \n",
       "3  0.000000    ...     0.086268  0.019565  0.030511  0.079235  0.030145   \n",
       "4  0.021816    ...     0.088808  0.000000  0.096303  0.081569  0.000000   \n",
       "\n",
       "        668       669       670       671       672  \n",
       "0  0.074718  0.055232  0.074930  0.074140  0.073858  \n",
       "1  0.000000  0.099168  0.000000  0.091917  0.000000  \n",
       "2  0.077349  0.007715  0.077567  0.076771  0.076458  \n",
       "3  0.081401  0.016900  0.083693  0.048155  0.039538  \n",
       "4  0.000000  0.102030  0.000000  0.094567  0.000000  \n",
       "\n",
       "[5 rows x 672 columns]"
      ]
     },
     "execution_count": 68,
     "metadata": {},
     "output_type": "execute_result"
    }
   ],
   "source": [
    "X.head()"
   ]
  },
  {
   "cell_type": "code",
   "execution_count": 69,
   "metadata": {},
   "outputs": [
    {
     "data": {
      "text/plain": [
       "0    cubism\n",
       "1    cubism\n",
       "2    cubism\n",
       "3    cubism\n",
       "4    cubism\n",
       "Name: movimento, dtype: object"
      ]
     },
     "execution_count": 69,
     "metadata": {},
     "output_type": "execute_result"
    }
   ],
   "source": [
    "y.head()"
   ]
  },
  {
   "cell_type": "code",
   "execution_count": 70,
   "metadata": {},
   "outputs": [],
   "source": [
    "# encode class values as integers\n",
    "encoder = LabelEncoder()\n",
    "encoder.fit(y)\n",
    "encoded_y = encoder.transform(y)\n",
    "# convert integers to dummy variables (i.e. one hot encoded)\n",
    "dummy_y = np_utils.to_categorical(encoded_y)"
   ]
  },
  {
   "cell_type": "code",
   "execution_count": 71,
   "metadata": {},
   "outputs": [],
   "source": [
    "# define baseline model\n",
    "def baseline_model():\n",
    "    # create model\n",
    "    model = Sequential()\n",
    "    model.add(Dense(1024, input_dim=672, activation='relu'))\n",
    "    model.add(Dense(1024, activation='sigmoid'))\n",
    "    model.add(Dense(3, activation='softmax'))\n",
    "    # Compile model\n",
    "    optimizer = Adam(lr=0.001)\n",
    "    model.compile(loss='categorical_crossentropy', optimizer=optimizer, metrics=['accuracy'])\n",
    "    #model.compile(loss='categorical_crossentropy', optimizer='tanh', metrics=['accuracy'])\n",
    "    return model"
   ]
  },
  {
   "cell_type": "code",
   "execution_count": 74,
   "metadata": {},
   "outputs": [],
   "source": [
    "estimator = KerasClassifier(build_fn=baseline_model, epochs=150, batch_size=128, verbose=0)"
   ]
  },
  {
   "cell_type": "code",
   "execution_count": 75,
   "metadata": {},
   "outputs": [],
   "source": [
    "kfold = KFold(n_splits=10, shuffle=True, random_state=seed)"
   ]
  },
  {
   "cell_type": "markdown",
   "metadata": {},
   "source": [
    "# Resultado GIST"
   ]
  },
  {
   "cell_type": "code",
   "execution_count": 76,
   "metadata": {
    "scrolled": false
   },
   "outputs": [
    {
     "name": "stdout",
     "output_type": "stream",
     "text": [
      "Baseline: 68.40% (3.89%)\n"
     ]
    }
   ],
   "source": [
    "results = cross_val_score(estimator, X, dummy_y, cv=kfold)\n",
    "print(\"Baseline: %.2f%% (%.2f%%)\" % (results.mean()*100, results.std()*100))"
   ]
  },
  {
   "cell_type": "markdown",
   "metadata": {},
   "source": [
    "# Resultado LBP\n",
    "Baseline: 68.40% (3.89%)"
   ]
  },
  {
   "cell_type": "markdown",
   "metadata": {},
   "source": [
    "results = cross_val_score(estimator, X, dummy_y, cv=kfold)\n",
    "print(\"Baseline: %.2f%% (%.2f%%)\" % (results.mean()*100, results.std()*100))"
   ]
  },
  {
   "cell_type": "markdown",
   "metadata": {},
   "source": [
    "# Resultado COLOR\n",
    "\n",
    "* Baseline: 51.95% (3.74%)"
   ]
  },
  {
   "cell_type": "markdown",
   "metadata": {},
   "source": [
    "results = cross_val_score(estimator, X, dummy_y, cv=kfold)\n",
    "print(\"Baseline: %.2f%% (%.2f%%)\" % (results.mean()*100, results.std()*100))"
   ]
  },
  {
   "cell_type": "code",
   "execution_count": 64,
   "metadata": {},
   "outputs": [
    {
     "data": {
      "text/plain": [
       "'/home/pedrotorres/Documents/UFC/TCC/implementacao'"
      ]
     },
     "execution_count": 64,
     "metadata": {},
     "output_type": "execute_result"
    }
   ],
   "source": [
    "pwd"
   ]
  },
  {
   "cell_type": "code",
   "execution_count": null,
   "metadata": {},
   "outputs": [],
   "source": []
  }
 ],
 "metadata": {
  "kernelspec": {
   "display_name": "Python 3",
   "language": "python",
   "name": "python3"
  },
  "language_info": {
   "codemirror_mode": {
    "name": "ipython",
    "version": 3
   },
   "file_extension": ".py",
   "mimetype": "text/x-python",
   "name": "python",
   "nbconvert_exporter": "python",
   "pygments_lexer": "ipython3",
   "version": "3.6.4"
  }
 },
 "nbformat": 4,
 "nbformat_minor": 2
}
