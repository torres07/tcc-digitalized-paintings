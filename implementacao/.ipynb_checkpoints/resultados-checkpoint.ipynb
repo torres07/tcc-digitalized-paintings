{
 "cells": [
  {
   "cell_type": "code",
   "execution_count": 1,
   "metadata": {},
   "outputs": [],
   "source": [
    "%matplotlib inline\n",
    "import numpy as np\n",
    "import pandas as pd\n",
    "import matplotlib.pyplot as plt"
   ]
  },
  {
   "cell_type": "code",
   "execution_count": 18,
   "metadata": {},
   "outputs": [
    {
     "data": {
      "text/plain": [
       "<Container object of 4 artists>"
      ]
     },
     "execution_count": 18,
     "metadata": {},
     "output_type": "execute_result"
    },
    {
     "data": {
      "image/png": "[encoded data removed]",
      "text/plain": [
       "<matplotlib.figure.Figure at 0x7fa33c9af6a0>"
      ]
     },
     "metadata": {},
     "output_type": "display_data"
    }
   ],
   "source": [
    "mov_qtd = [389, 362, 360, 363]\n",
    "x = ['cubismo', 'expressionismo', 'realismo', 'romanticismo']\n",
    "plt.bar(x, mov_qtd, color='rgbckymc')"
   ]
  },
  {
   "cell_type": "markdown",
   "metadata": {},
   "source": [
    "# Resultados GIST"
   ]
  },
  {
   "cell_type": "code",
   "execution_count": 41,
   "metadata": {},
   "outputs": [
    {
     "data": {
      "text/html": [
       "<div>\n",
       "<style scoped>\n",
       "    .dataframe tbody tr th:only-of-type {\n",
       "        vertical-align: middle;\n",
       "    }\n",
       "\n",
       "    .dataframe tbody tr th {\n",
       "        vertical-align: top;\n",
       "    }\n",
       "\n",
       "    .dataframe thead th {\n",
       "        text-align: right;\n",
       "    }\n",
       "</style>\n",
       "<table border=\"1\" class=\"dataframe\">\n",
       "  <thead>\n",
       "    <tr style=\"text-align: right;\">\n",
       "      <th></th>\n",
       "      <th>cub-exp-rom</th>\n",
       "      <th>cub-exp</th>\n",
       "      <th>cub-rom</th>\n",
       "      <th>exp-rom</th>\n",
       "    </tr>\n",
       "  </thead>\n",
       "  <tbody>\n",
       "    <tr>\n",
       "      <th>RF</th>\n",
       "      <td>68.13</td>\n",
       "      <td>71.37</td>\n",
       "      <td>84.57</td>\n",
       "      <td>81.65</td>\n",
       "    </tr>\n",
       "    <tr>\n",
       "      <th>MLP</th>\n",
       "      <td>68.76</td>\n",
       "      <td>68.17</td>\n",
       "      <td>86.57</td>\n",
       "      <td>83.72</td>\n",
       "    </tr>\n",
       "    <tr>\n",
       "      <th>ML</th>\n",
       "      <td>70.37</td>\n",
       "      <td>70.45</td>\n",
       "      <td>86.18</td>\n",
       "      <td>82.37</td>\n",
       "    </tr>\n",
       "  </tbody>\n",
       "</table>\n",
       "</div>"
      ],
      "text/plain": [
       "     cub-exp-rom  cub-exp  cub-rom  exp-rom\n",
       "RF         68.13    71.37    84.57    81.65\n",
       "MLP        68.76    68.17    86.57    83.72\n",
       "ML         70.37    70.45    86.18    82.37"
      ]
     },
     "execution_count": 41,
     "metadata": {},
     "output_type": "execute_result"
    }
   ],
   "source": [
    "lines = ['RF', 'MLP', 'ML']\n",
    "header = ['cub-exp-rom', 'cub-exp', 'cub-rom', 'exp-rom']\n",
    "data = np.array([[68.13, 71.37, 84.57, 81.65],\n",
    "                 [68.76, 68.17, 86.57, 83.72],\n",
    "                 [70.37, 70.45, 86.18, 82.37]\n",
    "                ])\n",
    "\n",
    "resultados_gist = pd.DataFrame(data, columns=header, index=lines)\n",
    "resultados_gist"
   ]
  },
  {
   "cell_type": "markdown",
   "metadata": {},
   "source": [
    "# Resultados LBP"
   ]
  },
  {
   "cell_type": "code",
   "execution_count": 48,
   "metadata": {},
   "outputs": [
    {
     "data": {
      "text/html": [
       "<div>\n",
       "<style scoped>\n",
       "    .dataframe tbody tr th:only-of-type {\n",
       "        vertical-align: middle;\n",
       "    }\n",
       "\n",
       "    .dataframe tbody tr th {\n",
       "        vertical-align: top;\n",
       "    }\n",
       "\n",
       "    .dataframe thead th {\n",
       "        text-align: right;\n",
       "    }\n",
       "</style>\n",
       "<table border=\"1\" class=\"dataframe\">\n",
       "  <thead>\n",
       "    <tr style=\"text-align: right;\">\n",
       "      <th></th>\n",
       "      <th>cub-exp-rom</th>\n",
       "      <th>cub-exp</th>\n",
       "      <th>cub-rom</th>\n",
       "      <th>exp-rom</th>\n",
       "    </tr>\n",
       "  </thead>\n",
       "  <tbody>\n",
       "    <tr>\n",
       "      <th>RF</th>\n",
       "      <td>61.13</td>\n",
       "      <td>67.24</td>\n",
       "      <td>77.79</td>\n",
       "      <td>79.17</td>\n",
       "    </tr>\n",
       "    <tr>\n",
       "      <th>MLP</th>\n",
       "      <td>55.20</td>\n",
       "      <td>60.59</td>\n",
       "      <td>74.73</td>\n",
       "      <td>76.69</td>\n",
       "    </tr>\n",
       "    <tr>\n",
       "      <th>ML</th>\n",
       "      <td>62.48</td>\n",
       "      <td>66.06</td>\n",
       "      <td>80.71</td>\n",
       "      <td>79.17</td>\n",
       "    </tr>\n",
       "  </tbody>\n",
       "</table>\n",
       "</div>"
      ],
      "text/plain": [
       "     cub-exp-rom  cub-exp  cub-rom  exp-rom\n",
       "RF         61.13    67.24    77.79    79.17\n",
       "MLP        55.20    60.59    74.73    76.69\n",
       "ML         62.48    66.06    80.71    79.17"
      ]
     },
     "execution_count": 48,
     "metadata": {},
     "output_type": "execute_result"
    }
   ],
   "source": [
    "data = np.array([[61.13, 67.24, 77.79, 79.17],\n",
    "                 [55.20, 60.59, 74.73, 76.69],\n",
    "                 [62.48, 66.06, 80.71, 79.17]\n",
    "                ])\n",
    "\n",
    "resultados_gist = pd.DataFrame(data, columns=header, index=lines)\n",
    "resultados_gist"
   ]
  },
  {
   "cell_type": "markdown",
   "metadata": {},
   "source": [
    "# Resultados COLOR"
   ]
  },
  {
   "cell_type": "code",
   "execution_count": 46,
   "metadata": {},
   "outputs": [
    {
     "data": {
      "text/html": [
       "<div>\n",
       "<style scoped>\n",
       "    .dataframe tbody tr th:only-of-type {\n",
       "        vertical-align: middle;\n",
       "    }\n",
       "\n",
       "    .dataframe tbody tr th {\n",
       "        vertical-align: top;\n",
       "    }\n",
       "\n",
       "    .dataframe thead th {\n",
       "        text-align: right;\n",
       "    }\n",
       "</style>\n",
       "<table border=\"1\" class=\"dataframe\">\n",
       "  <thead>\n",
       "    <tr style=\"text-align: right;\">\n",
       "      <th></th>\n",
       "      <th>cub-exp-rom</th>\n",
       "      <th>cub-exp</th>\n",
       "      <th>cub-rom</th>\n",
       "      <th>exp-rom</th>\n",
       "    </tr>\n",
       "  </thead>\n",
       "  <tbody>\n",
       "    <tr>\n",
       "      <th>RF</th>\n",
       "      <td>67.86</td>\n",
       "      <td>67.64</td>\n",
       "      <td>87.23</td>\n",
       "      <td>86.76</td>\n",
       "    </tr>\n",
       "    <tr>\n",
       "      <th>MLP</th>\n",
       "      <td>65.62</td>\n",
       "      <td>63.25</td>\n",
       "      <td>87.10</td>\n",
       "      <td>89.37</td>\n",
       "    </tr>\n",
       "    <tr>\n",
       "      <th>ML</th>\n",
       "      <td>69.16</td>\n",
       "      <td>0.00</td>\n",
       "      <td>0.00</td>\n",
       "      <td>0.00</td>\n",
       "    </tr>\n",
       "  </tbody>\n",
       "</table>\n",
       "</div>"
      ],
      "text/plain": [
       "     cub-exp-rom  cub-exp  cub-rom  exp-rom\n",
       "RF         67.86    67.64    87.23    86.76\n",
       "MLP        65.62    63.25    87.10    89.37\n",
       "ML         69.16     0.00     0.00     0.00"
      ]
     },
     "execution_count": 46,
     "metadata": {},
     "output_type": "execute_result"
    }
   ],
   "source": [
    "data = np.array([[67.86, 67.64, 87.23, 86.76],\n",
    "                 [65.62, 63.25, 87.10, 89.37],\n",
    "                 [69.16, 0, 0, 0]\n",
    "                ])\n",
    "\n",
    "resultados_gist = pd.DataFrame(data, columns=header, index=lines)\n",
    "resultados_gist"
   ]
  }
 ],
 "metadata": {
  "kernelspec": {
   "display_name": "Python 3",
   "language": "python",
   "name": "python3"
  },
  "language_info": {
   "codemirror_mode": {
    "name": "ipython",
    "version": 3
   },
   "file_extension": ".py",
   "mimetype": "text/x-python",
   "name": "python",
   "nbconvert_exporter": "python",
   "pygments_lexer": "ipython3",
   "version": "3.6.4"
  }
 },
 "nbformat": 4,
 "nbformat_minor": 2
}
