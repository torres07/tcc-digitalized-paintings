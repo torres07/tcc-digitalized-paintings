{
 "cells": [
  {
   "cell_type": "code",
   "execution_count": 2,
   "metadata": {},
   "outputs": [],
   "source": [
    "import numpy as np"
   ]
  },
  {
   "cell_type": "code",
   "execution_count": 14,
   "metadata": {},
   "outputs": [],
   "source": [
    "n_exp = 10"
   ]
  },
  {
   "cell_type": "markdown",
   "metadata": {},
   "source": [
    "# LBP"
   ]
  },
  {
   "cell_type": "code",
   "execution_count": 36,
   "metadata": {},
   "outputs": [],
   "source": [
    "lbp_dists = [0.7364739890303736, 0.7309277420267526, 0.7425686919167225, 0.7363797852947415, 0.7379898420366249, 0.7353388104093727, 0.7297981609869778, 0.7423442854413194, 0.7342032504902525, 0.7398821415818485, 0.7444369766878514, 0.7281760999181682, 0.7368753540997339, 0.7237571191697458, 0.739516657921286, 0.7800573090318538, 0.73429496784218, 0.7234781936959396, 0.7292153578458103, 0.7391275809666201, 0.7366829129125128, 0.7466769148193125, 0.7376376321299484, 0.7377040115703807, 0.7330320228213569, 0.7320370238342668, 0.7180572570595593, 0.7319799554514232, 0.7312784975899846, 0.7387637127672658, 0.7567976928279715, 0.7613637261581271, 0.7540681087011339, 0.7556352067326441, 0.7481140709803403, 0.7574669480081125, 0.7489107282269726, 0.7680993217880581, 0.7516945863194837, 0.7599347161999249]"
   ]
  },
  {
   "cell_type": "code",
   "execution_count": 31,
   "metadata": {},
   "outputs": [],
   "source": [
    "lbp_bfs = lbp_dists[:n_exp]\n",
    "lbp_dfs1 = lbp_dists[n_exp: 2 * n_exp]\n",
    "lbp_dfs2 = lbp_dists[2 * n_exp: 3 * n_exp]\n",
    "random = lbp_dists[3 * n_exp:]"
   ]
  },
  {
   "cell_type": "code",
   "execution_count": 32,
   "metadata": {},
   "outputs": [
    {
     "data": {
      "text/plain": [
       "(0.75620851059427685, 0.0057257849862287344, 3.2784613708522386e-05)"
      ]
     },
     "execution_count": 32,
     "metadata": {},
     "output_type": "execute_result"
    }
   ],
   "source": [
    "random = (np.mean(random), np.std(random), np.var(random))\n",
    "random"
   ]
  },
  {
   "cell_type": "code",
   "execution_count": 33,
   "metadata": {},
   "outputs": [
    {
     "data": {
      "text/plain": [
       "(0.73659066992149858, 0.0040885724565613559, 1.6716424732552159e-05)"
      ]
     },
     "execution_count": 33,
     "metadata": {},
     "output_type": "execute_result"
    }
   ],
   "source": [
    "lbp_bfs_data = (np.mean(lbp_bfs), np.std(lbp_bfs), np.var(lbp_bfs))\n",
    "lbp_bfs_data"
   ]
  },
  {
   "cell_type": "code",
   "execution_count": 34,
   "metadata": {},
   "outputs": [
    {
     "data": {
      "text/plain": [
       "(0.73789356171791898, 0.015543885826434359, 0.00024161238658522693)"
      ]
     },
     "execution_count": 34,
     "metadata": {},
     "output_type": "execute_result"
    }
   ],
   "source": [
    "lbp_dfs1_data = (np.mean(lbp_dfs1), np.std(lbp_dfs1), np.var(lbp_dfs1))\n",
    "lbp_dfs1_data"
   ]
  },
  {
   "cell_type": "code",
   "execution_count": 35,
   "metadata": {},
   "outputs": [
    {
     "data": {
      "text/plain": [
       "(0.7343849940956011, 0.0069750518141993186, 4.86513478107652e-05)"
      ]
     },
     "execution_count": 35,
     "metadata": {},
     "output_type": "execute_result"
    }
   ],
   "source": [
    "lbp_dfs2_data = (np.mean(lbp_dfs2), np.std(lbp_dfs2), np.var(lbp_dfs2))\n",
    "lbp_dfs2_data"
   ]
  },
  {
   "cell_type": "markdown",
   "metadata": {},
   "source": [
    "# GIST"
   ]
  },
  {
   "cell_type": "code",
   "execution_count": 37,
   "metadata": {},
   "outputs": [],
   "source": [
    "gist_dists = [0.9352832224169985, 0.9583087097182003, 0.9341208325002246, 0.9352591301831442, 0.9325138172077356, 0.9662886252026172, 0.9335575877719798, 0.9587095498893052, 0.9279532705284823, 0.9336644211287042, 0.9228729442218798, 0.9280677883735343, 0.9374611322382328, 0.9286085505298249, 0.9295325086157369, 0.9389775679795727, 0.9281201048182656, 0.9280564967109902, 0.9329239172364541, 0.9347216380313401, 0.9434688141772787, 0.9383577845980097, 0.9292315442726435, 0.9283833479034458, 0.9362562579008136, 0.9362083457919189, 0.932661918564006, 0.928703949044959, 0.9283524606773693, 0.9369966754719936, 0.9525607506555223, 0.9471400506589142, 0.9473623951221285, 0.953397003210695, 0.9472111836189914, 0.9510950940859191, 0.9243522517488116, 0.9483174282346257, 0.9461189217436299, 0.9447148592987891]\n"
   ]
  },
  {
   "cell_type": "code",
   "execution_count": 38,
   "metadata": {},
   "outputs": [],
   "source": [
    "gist_bfs = gist_dists[:n_exp]\n",
    "gist_dfs1 = gist_dists[n_exp: 2 * n_exp]\n",
    "gist_dfs2 = gist_dists[2 * n_exp: 3 * n_exp]\n",
    "random = gist_dists[3 * n_exp:]"
   ]
  },
  {
   "cell_type": "code",
   "execution_count": 39,
   "metadata": {},
   "outputs": [
    {
     "data": {
      "text/plain": [
       "(0.94622699383780273, 0.0077684479536675845, 6.0348783608842079e-05)"
      ]
     },
     "execution_count": 39,
     "metadata": {},
     "output_type": "execute_result"
    }
   ],
   "source": [
    "random = (np.mean(random), np.std(random), np.var(random))\n",
    "random"
   ]
  },
  {
   "cell_type": "code",
   "execution_count": 40,
   "metadata": {},
   "outputs": [
    {
     "data": {
      "text/plain": [
       "(0.9415659166547391, 0.013091700731918223, 0.00017139262805410815)"
      ]
     },
     "execution_count": 40,
     "metadata": {},
     "output_type": "execute_result"
    }
   ],
   "source": [
    "gist_bfs_data = (np.mean(gist_bfs), np.std(gist_bfs), np.var(gist_bfs))\n",
    "gist_bfs_data"
   ]
  },
  {
   "cell_type": "code",
   "execution_count": 41,
   "metadata": {},
   "outputs": [
    {
     "data": {
      "text/plain": [
       "(0.93093426487558306, 0.0047156561241929853, 2.2237412681638812e-05)"
      ]
     },
     "execution_count": 41,
     "metadata": {},
     "output_type": "execute_result"
    }
   ],
   "source": [
    "gist_dfs1_data = (np.mean(gist_dfs1), np.std(gist_dfs1), np.var(gist_dfs1))\n",
    "gist_dfs1_data"
   ]
  },
  {
   "cell_type": "code",
   "execution_count": 42,
   "metadata": {},
   "outputs": [
    {
     "data": {
      "text/plain": [
       "(0.93386210984024376, 0.0049338059867298544, 2.4342441514691349e-05)"
      ]
     },
     "execution_count": 42,
     "metadata": {},
     "output_type": "execute_result"
    }
   ],
   "source": [
    "gist_dfs2_data = (np.mean(gist_dfs2), np.std(gist_dfs2), np.var(gist_dfs2))\n",
    "gist_dfs2_data"
   ]
  },
  {
   "cell_type": "markdown",
   "metadata": {},
   "source": [
    "# COLOR"
   ]
  },
  {
   "cell_type": "code",
   "execution_count": 43,
   "metadata": {},
   "outputs": [],
   "source": [
    "color_dists = [0.9176681957389943, 0.904758543986473, 0.9148387224446589, 0.9038882116352954, 0.9019341974456396, 0.921430738951882, 0.9184046151566413, 0.9232802829850187, 0.920894791157787, 0.9244789971969162, 0.8594381763501375, 0.9139374075930606, 0.8697771676563545, 0.8913172349959311, 0.9147483565908449, 0.8955748108142004, 0.9099272647218399, 0.8382148753441552, 0.9096004188077386, 0.8929209014457035, 0.9124856083139153, 0.8933110766205243, 0.8934822942827072, 0.9079859528490305, 0.84727446125584, 0.9056978118916839, 0.8963368017155556, 0.9015413487544488, 0.9106286606359615, 0.913583596506262, 0.9297120276371881, 0.9341948502573644, 0.9215412664535515, 0.9282422440417079, 0.9288089757850624, 0.9372897990741177, 0.9363194768667403, 0.9324857124555049, 0.9270718968683326, 0.9345017765840709]"
   ]
  },
  {
   "cell_type": "code",
   "execution_count": 44,
   "metadata": {},
   "outputs": [],
   "source": [
    "color_bfs = color_dists[:n_exp]\n",
    "color_dfs1 = color_dists[n_exp: 2 * n_exp]\n",
    "color_dfs2 = color_dists[2 * n_exp: 3 * n_exp]\n",
    "random = color_dists[3 * n_exp:]"
   ]
  },
  {
   "cell_type": "code",
   "execution_count": 48,
   "metadata": {},
   "outputs": [
    {
     "data": {
      "text/plain": [
       "(0.93101680260236408, 0.004598855776443719, 2.1149474452529765e-05)"
      ]
     },
     "execution_count": 48,
     "metadata": {},
     "output_type": "execute_result"
    }
   ],
   "source": [
    "random = (np.mean(random), np.std(random), np.var(random))\n",
    "random"
   ]
  },
  {
   "cell_type": "code",
   "execution_count": 45,
   "metadata": {},
   "outputs": [
    {
     "data": {
      "text/plain": [
       "(0.9151577296699307, 0.0080751457918067648, 6.5207979558934496e-05)"
      ]
     },
     "execution_count": 45,
     "metadata": {},
     "output_type": "execute_result"
    }
   ],
   "source": [
    "color_bfs_data = (np.mean(color_bfs), np.std(color_bfs), np.var(color_bfs))\n",
    "color_bfs_data\n"
   ]
  },
  {
   "cell_type": "code",
   "execution_count": 46,
   "metadata": {},
   "outputs": [
    {
     "data": {
      "text/plain": [
       "(0.88954566143199665, 0.024557526615975062, 0.0006030721134943236)"
      ]
     },
     "execution_count": 46,
     "metadata": {},
     "output_type": "execute_result"
    }
   ],
   "source": [
    "color_dfs1_data = (np.mean(color_dfs1), np.std(color_dfs1), np.var(color_dfs1))\n",
    "color_dfs1_data"
   ]
  },
  {
   "cell_type": "code",
   "execution_count": 47,
   "metadata": {},
   "outputs": [
    {
     "data": {
      "text/plain": [
       "(0.89823276128259288, 0.018442834678146534, 0.00034013815096544433)"
      ]
     },
     "execution_count": 47,
     "metadata": {},
     "output_type": "execute_result"
    }
   ],
   "source": [
    "color_dfs2_data = (np.mean(color_dfs2), np.std(color_dfs2), np.var(color_dfs2))\n",
    "color_dfs2_data"
   ]
  },
  {
   "cell_type": "code",
   "execution_count": null,
   "metadata": {},
   "outputs": [],
   "source": []
  }
 ],
 "metadata": {
  "kernelspec": {
   "display_name": "Python 3",
   "language": "python",
   "name": "python3"
  },
  "language_info": {
   "codemirror_mode": {
    "name": "ipython",
    "version": 3
   },
   "file_extension": ".py",
   "mimetype": "text/x-python",
   "name": "python",
   "nbconvert_exporter": "python",
   "pygments_lexer": "ipython3",
   "version": "3.6.4"
  }
 },
 "nbformat": 4,
 "nbformat_minor": 2
}
